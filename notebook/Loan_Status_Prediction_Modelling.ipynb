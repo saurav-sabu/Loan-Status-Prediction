{
  "cells": [
    {
      "cell_type": "markdown",
      "metadata": {
        "id": "3REZ4UirxkNu"
      },
      "source": [
        "# Feature Engineering & Modelling"
      ]
    },
    {
      "cell_type": "markdown",
      "metadata": {
        "id": "-VM66BBJxoFd"
      },
      "source": [
        "### Importing the necessary modules"
      ]
    },
    {
      "cell_type": "code",
      "execution_count": 1,
      "metadata": {
        "id": "9MwIC_yRxifT"
      },
      "outputs": [],
      "source": [
        "import pandas as pd\n",
        "import numpy as np\n",
        "import seaborn as sns\n",
        "import matplotlib.pyplot as plt\n",
        "\n",
        "import warnings\n",
        "warnings.filterwarnings('ignore')"
      ]
    },
    {
      "cell_type": "markdown",
      "metadata": {
        "id": "GHP0fMMPx0lQ"
      },
      "source": [
        "### Reading the Dataset"
      ]
    },
    {
      "cell_type": "code",
      "execution_count": 2,
      "metadata": {
        "id": "XE1ClPE8xmw6"
      },
      "outputs": [],
      "source": [
        "df = pd.read_csv(r\"data/loan_data.csv\")"
      ]
    },
    {
      "cell_type": "code",
      "execution_count": 3,
      "metadata": {
        "colab": {
          "base_uri": "https://localhost:8080/",
          "height": 261
        },
        "id": "2U0Qn2gBx7MO",
        "outputId": "03b36655-53a1-4ff6-e5c6-274092948048"
      },
      "outputs": [
        {
          "data": {
            "text/html": [
              "<div>\n",
              "<style scoped>\n",
              "    .dataframe tbody tr th:only-of-type {\n",
              "        vertical-align: middle;\n",
              "    }\n",
              "\n",
              "    .dataframe tbody tr th {\n",
              "        vertical-align: top;\n",
              "    }\n",
              "\n",
              "    .dataframe thead th {\n",
              "        text-align: right;\n",
              "    }\n",
              "</style>\n",
              "<table border=\"1\" class=\"dataframe\">\n",
              "  <thead>\n",
              "    <tr style=\"text-align: right;\">\n",
              "      <th></th>\n",
              "      <th>Loan_ID</th>\n",
              "      <th>Gender</th>\n",
              "      <th>Married</th>\n",
              "      <th>Dependents</th>\n",
              "      <th>Education</th>\n",
              "      <th>Self_Employed</th>\n",
              "      <th>ApplicantIncome</th>\n",
              "      <th>CoapplicantIncome</th>\n",
              "      <th>LoanAmount</th>\n",
              "      <th>Loan_Amount_Term</th>\n",
              "      <th>Credit_History</th>\n",
              "      <th>Property_Area</th>\n",
              "      <th>Loan_Status</th>\n",
              "    </tr>\n",
              "  </thead>\n",
              "  <tbody>\n",
              "    <tr>\n",
              "      <th>0</th>\n",
              "      <td>LP001003</td>\n",
              "      <td>Male</td>\n",
              "      <td>Yes</td>\n",
              "      <td>1</td>\n",
              "      <td>Graduate</td>\n",
              "      <td>No</td>\n",
              "      <td>4583</td>\n",
              "      <td>1508.0</td>\n",
              "      <td>128.0</td>\n",
              "      <td>360.0</td>\n",
              "      <td>1.0</td>\n",
              "      <td>Rural</td>\n",
              "      <td>N</td>\n",
              "    </tr>\n",
              "    <tr>\n",
              "      <th>1</th>\n",
              "      <td>LP001005</td>\n",
              "      <td>Male</td>\n",
              "      <td>Yes</td>\n",
              "      <td>0</td>\n",
              "      <td>Graduate</td>\n",
              "      <td>Yes</td>\n",
              "      <td>3000</td>\n",
              "      <td>0.0</td>\n",
              "      <td>66.0</td>\n",
              "      <td>360.0</td>\n",
              "      <td>1.0</td>\n",
              "      <td>Urban</td>\n",
              "      <td>Y</td>\n",
              "    </tr>\n",
              "    <tr>\n",
              "      <th>2</th>\n",
              "      <td>LP001006</td>\n",
              "      <td>Male</td>\n",
              "      <td>Yes</td>\n",
              "      <td>0</td>\n",
              "      <td>Not Graduate</td>\n",
              "      <td>No</td>\n",
              "      <td>2583</td>\n",
              "      <td>2358.0</td>\n",
              "      <td>120.0</td>\n",
              "      <td>360.0</td>\n",
              "      <td>1.0</td>\n",
              "      <td>Urban</td>\n",
              "      <td>Y</td>\n",
              "    </tr>\n",
              "    <tr>\n",
              "      <th>3</th>\n",
              "      <td>LP001008</td>\n",
              "      <td>Male</td>\n",
              "      <td>No</td>\n",
              "      <td>0</td>\n",
              "      <td>Graduate</td>\n",
              "      <td>No</td>\n",
              "      <td>6000</td>\n",
              "      <td>0.0</td>\n",
              "      <td>141.0</td>\n",
              "      <td>360.0</td>\n",
              "      <td>1.0</td>\n",
              "      <td>Urban</td>\n",
              "      <td>Y</td>\n",
              "    </tr>\n",
              "    <tr>\n",
              "      <th>4</th>\n",
              "      <td>LP001013</td>\n",
              "      <td>Male</td>\n",
              "      <td>Yes</td>\n",
              "      <td>0</td>\n",
              "      <td>Not Graduate</td>\n",
              "      <td>No</td>\n",
              "      <td>2333</td>\n",
              "      <td>1516.0</td>\n",
              "      <td>95.0</td>\n",
              "      <td>360.0</td>\n",
              "      <td>1.0</td>\n",
              "      <td>Urban</td>\n",
              "      <td>Y</td>\n",
              "    </tr>\n",
              "  </tbody>\n",
              "</table>\n",
              "</div>"
            ],
            "text/plain": [
              "    Loan_ID Gender Married Dependents     Education Self_Employed  \\\n",
              "0  LP001003   Male     Yes          1      Graduate            No   \n",
              "1  LP001005   Male     Yes          0      Graduate           Yes   \n",
              "2  LP001006   Male     Yes          0  Not Graduate            No   \n",
              "3  LP001008   Male      No          0      Graduate            No   \n",
              "4  LP001013   Male     Yes          0  Not Graduate            No   \n",
              "\n",
              "   ApplicantIncome  CoapplicantIncome  LoanAmount  Loan_Amount_Term  \\\n",
              "0             4583             1508.0       128.0             360.0   \n",
              "1             3000                0.0        66.0             360.0   \n",
              "2             2583             2358.0       120.0             360.0   \n",
              "3             6000                0.0       141.0             360.0   \n",
              "4             2333             1516.0        95.0             360.0   \n",
              "\n",
              "   Credit_History Property_Area Loan_Status  \n",
              "0             1.0         Rural           N  \n",
              "1             1.0         Urban           Y  \n",
              "2             1.0         Urban           Y  \n",
              "3             1.0         Urban           Y  \n",
              "4             1.0         Urban           Y  "
            ]
          },
          "execution_count": 3,
          "metadata": {},
          "output_type": "execute_result"
        }
      ],
      "source": [
        "df.head()"
      ]
    },
    {
      "cell_type": "markdown",
      "metadata": {
        "id": "kShxORhxyNs2"
      },
      "source": [
        "# Data Cleaning"
      ]
    },
    {
      "cell_type": "code",
      "execution_count": 4,
      "metadata": {
        "id": "2YEPehkZzBEI"
      },
      "outputs": [],
      "source": [
        "df.drop(columns=[\"Loan_ID\"],inplace=True)"
      ]
    },
    {
      "cell_type": "code",
      "execution_count": 5,
      "metadata": {
        "colab": {
          "base_uri": "https://localhost:8080/",
          "height": 261
        },
        "id": "nR4QZTDry9mT",
        "outputId": "a25f0750-3a5f-4d0b-f7ae-8bdc345433e2"
      },
      "outputs": [
        {
          "data": {
            "text/html": [
              "<div>\n",
              "<style scoped>\n",
              "    .dataframe tbody tr th:only-of-type {\n",
              "        vertical-align: middle;\n",
              "    }\n",
              "\n",
              "    .dataframe tbody tr th {\n",
              "        vertical-align: top;\n",
              "    }\n",
              "\n",
              "    .dataframe thead th {\n",
              "        text-align: right;\n",
              "    }\n",
              "</style>\n",
              "<table border=\"1\" class=\"dataframe\">\n",
              "  <thead>\n",
              "    <tr style=\"text-align: right;\">\n",
              "      <th></th>\n",
              "      <th>Gender</th>\n",
              "      <th>Married</th>\n",
              "      <th>Dependents</th>\n",
              "      <th>Education</th>\n",
              "      <th>Self_Employed</th>\n",
              "      <th>ApplicantIncome</th>\n",
              "      <th>CoapplicantIncome</th>\n",
              "      <th>LoanAmount</th>\n",
              "      <th>Loan_Amount_Term</th>\n",
              "      <th>Credit_History</th>\n",
              "      <th>Property_Area</th>\n",
              "      <th>Loan_Status</th>\n",
              "    </tr>\n",
              "  </thead>\n",
              "  <tbody>\n",
              "    <tr>\n",
              "      <th>0</th>\n",
              "      <td>Male</td>\n",
              "      <td>Yes</td>\n",
              "      <td>1</td>\n",
              "      <td>Graduate</td>\n",
              "      <td>No</td>\n",
              "      <td>4583</td>\n",
              "      <td>1508.0</td>\n",
              "      <td>128.0</td>\n",
              "      <td>360.0</td>\n",
              "      <td>1.0</td>\n",
              "      <td>Rural</td>\n",
              "      <td>N</td>\n",
              "    </tr>\n",
              "    <tr>\n",
              "      <th>1</th>\n",
              "      <td>Male</td>\n",
              "      <td>Yes</td>\n",
              "      <td>0</td>\n",
              "      <td>Graduate</td>\n",
              "      <td>Yes</td>\n",
              "      <td>3000</td>\n",
              "      <td>0.0</td>\n",
              "      <td>66.0</td>\n",
              "      <td>360.0</td>\n",
              "      <td>1.0</td>\n",
              "      <td>Urban</td>\n",
              "      <td>Y</td>\n",
              "    </tr>\n",
              "    <tr>\n",
              "      <th>2</th>\n",
              "      <td>Male</td>\n",
              "      <td>Yes</td>\n",
              "      <td>0</td>\n",
              "      <td>Not Graduate</td>\n",
              "      <td>No</td>\n",
              "      <td>2583</td>\n",
              "      <td>2358.0</td>\n",
              "      <td>120.0</td>\n",
              "      <td>360.0</td>\n",
              "      <td>1.0</td>\n",
              "      <td>Urban</td>\n",
              "      <td>Y</td>\n",
              "    </tr>\n",
              "    <tr>\n",
              "      <th>3</th>\n",
              "      <td>Male</td>\n",
              "      <td>No</td>\n",
              "      <td>0</td>\n",
              "      <td>Graduate</td>\n",
              "      <td>No</td>\n",
              "      <td>6000</td>\n",
              "      <td>0.0</td>\n",
              "      <td>141.0</td>\n",
              "      <td>360.0</td>\n",
              "      <td>1.0</td>\n",
              "      <td>Urban</td>\n",
              "      <td>Y</td>\n",
              "    </tr>\n",
              "    <tr>\n",
              "      <th>4</th>\n",
              "      <td>Male</td>\n",
              "      <td>Yes</td>\n",
              "      <td>0</td>\n",
              "      <td>Not Graduate</td>\n",
              "      <td>No</td>\n",
              "      <td>2333</td>\n",
              "      <td>1516.0</td>\n",
              "      <td>95.0</td>\n",
              "      <td>360.0</td>\n",
              "      <td>1.0</td>\n",
              "      <td>Urban</td>\n",
              "      <td>Y</td>\n",
              "    </tr>\n",
              "  </tbody>\n",
              "</table>\n",
              "</div>"
            ],
            "text/plain": [
              "  Gender Married Dependents     Education Self_Employed  ApplicantIncome  \\\n",
              "0   Male     Yes          1      Graduate            No             4583   \n",
              "1   Male     Yes          0      Graduate           Yes             3000   \n",
              "2   Male     Yes          0  Not Graduate            No             2583   \n",
              "3   Male      No          0      Graduate            No             6000   \n",
              "4   Male     Yes          0  Not Graduate            No             2333   \n",
              "\n",
              "   CoapplicantIncome  LoanAmount  Loan_Amount_Term  Credit_History  \\\n",
              "0             1508.0       128.0             360.0             1.0   \n",
              "1                0.0        66.0             360.0             1.0   \n",
              "2             2358.0       120.0             360.0             1.0   \n",
              "3                0.0       141.0             360.0             1.0   \n",
              "4             1516.0        95.0             360.0             1.0   \n",
              "\n",
              "  Property_Area Loan_Status  \n",
              "0         Rural           N  \n",
              "1         Urban           Y  \n",
              "2         Urban           Y  \n",
              "3         Urban           Y  \n",
              "4         Urban           Y  "
            ]
          },
          "execution_count": 5,
          "metadata": {},
          "output_type": "execute_result"
        }
      ],
      "source": [
        "df.head()"
      ]
    },
    {
      "cell_type": "code",
      "execution_count": 6,
      "metadata": {
        "colab": {
          "base_uri": "https://localhost:8080/",
          "height": 460
        },
        "id": "L5oYJgcL0zv_",
        "outputId": "ff0392ea-d4f0-4b5f-d1b8-893afd2c66bb"
      },
      "outputs": [
        {
          "data": {
            "text/plain": [
              "Gender               1.312336\n",
              "Married              0.000000\n",
              "Dependents           2.099738\n",
              "Education            0.000000\n",
              "Self_Employed        5.511811\n",
              "ApplicantIncome      0.000000\n",
              "CoapplicantIncome    0.000000\n",
              "LoanAmount           0.000000\n",
              "Loan_Amount_Term     2.887139\n",
              "Credit_History       7.874016\n",
              "Property_Area        0.000000\n",
              "Loan_Status          0.000000\n",
              "dtype: float64"
            ]
          },
          "execution_count": 6,
          "metadata": {},
          "output_type": "execute_result"
        }
      ],
      "source": [
        "df.isna().mean() * 100"
      ]
    },
    {
      "cell_type": "code",
      "execution_count": 7,
      "metadata": {
        "colab": {
          "base_uri": "https://localhost:8080/",
          "height": 241
        },
        "id": "Lm2vr2SN02SJ",
        "outputId": "7fffff29-4d07-466c-edd6-f9d3024a7547"
      },
      "outputs": [
        {
          "data": {
            "text/plain": [
              "Gender              1.312336\n",
              "Dependents          2.099738\n",
              "Self_Employed       5.511811\n",
              "Loan_Amount_Term    2.887139\n",
              "Credit_History      7.874016\n",
              "dtype: float64"
            ]
          },
          "execution_count": 7,
          "metadata": {},
          "output_type": "execute_result"
        }
      ],
      "source": [
        "df.isna().mean()[df.isna().mean() * 100 > 0] * 100"
      ]
    },
    {
      "cell_type": "code",
      "execution_count": 8,
      "metadata": {
        "colab": {
          "base_uri": "https://localhost:8080/"
        },
        "id": "r8R8hBnw1ERv",
        "outputId": "7e7fa58a-3f12-427b-c641-24ca1f659f23"
      },
      "outputs": [
        {
          "data": {
            "text/plain": [
              "Index(['Gender', 'Dependents', 'Self_Employed', 'Loan_Amount_Term',\n",
              "       'Credit_History'],\n",
              "      dtype='object')"
            ]
          },
          "execution_count": 8,
          "metadata": {},
          "output_type": "execute_result"
        }
      ],
      "source": [
        "features_na = df.isna().mean()[df.isna().mean() * 100 > 0].index\n",
        "features_na"
      ]
    },
    {
      "cell_type": "code",
      "execution_count": 9,
      "metadata": {
        "colab": {
          "base_uri": "https://localhost:8080/",
          "height": 300
        },
        "id": "5el7aWjV1F3x",
        "outputId": "4f5ed890-1203-4d87-9690-4581103a222f"
      },
      "outputs": [
        {
          "data": {
            "text/html": [
              "<div>\n",
              "<style scoped>\n",
              "    .dataframe tbody tr th:only-of-type {\n",
              "        vertical-align: middle;\n",
              "    }\n",
              "\n",
              "    .dataframe tbody tr th {\n",
              "        vertical-align: top;\n",
              "    }\n",
              "\n",
              "    .dataframe thead th {\n",
              "        text-align: right;\n",
              "    }\n",
              "</style>\n",
              "<table border=\"1\" class=\"dataframe\">\n",
              "  <thead>\n",
              "    <tr style=\"text-align: right;\">\n",
              "      <th></th>\n",
              "      <th>Loan_Amount_Term</th>\n",
              "      <th>Credit_History</th>\n",
              "    </tr>\n",
              "  </thead>\n",
              "  <tbody>\n",
              "    <tr>\n",
              "      <th>count</th>\n",
              "      <td>370.000000</td>\n",
              "      <td>351.000000</td>\n",
              "    </tr>\n",
              "    <tr>\n",
              "      <th>mean</th>\n",
              "      <td>340.864865</td>\n",
              "      <td>0.837607</td>\n",
              "    </tr>\n",
              "    <tr>\n",
              "      <th>std</th>\n",
              "      <td>68.549257</td>\n",
              "      <td>0.369338</td>\n",
              "    </tr>\n",
              "    <tr>\n",
              "      <th>min</th>\n",
              "      <td>12.000000</td>\n",
              "      <td>0.000000</td>\n",
              "    </tr>\n",
              "    <tr>\n",
              "      <th>25%</th>\n",
              "      <td>360.000000</td>\n",
              "      <td>1.000000</td>\n",
              "    </tr>\n",
              "    <tr>\n",
              "      <th>50%</th>\n",
              "      <td>360.000000</td>\n",
              "      <td>1.000000</td>\n",
              "    </tr>\n",
              "    <tr>\n",
              "      <th>75%</th>\n",
              "      <td>360.000000</td>\n",
              "      <td>1.000000</td>\n",
              "    </tr>\n",
              "    <tr>\n",
              "      <th>max</th>\n",
              "      <td>480.000000</td>\n",
              "      <td>1.000000</td>\n",
              "    </tr>\n",
              "  </tbody>\n",
              "</table>\n",
              "</div>"
            ],
            "text/plain": [
              "       Loan_Amount_Term  Credit_History\n",
              "count        370.000000      351.000000\n",
              "mean         340.864865        0.837607\n",
              "std           68.549257        0.369338\n",
              "min           12.000000        0.000000\n",
              "25%          360.000000        1.000000\n",
              "50%          360.000000        1.000000\n",
              "75%          360.000000        1.000000\n",
              "max          480.000000        1.000000"
            ]
          },
          "execution_count": 9,
          "metadata": {},
          "output_type": "execute_result"
        }
      ],
      "source": [
        "df[features_na].describe()"
      ]
    },
    {
      "cell_type": "code",
      "execution_count": 10,
      "metadata": {
        "id": "F2P3bO4P1RtE"
      },
      "outputs": [],
      "source": [
        "df[\"Loan_Amount_Term\"].fillna(df[\"Loan_Amount_Term\"].median(),inplace=True)\n",
        "df[\"Credit_History\"].fillna(df[\"Credit_History\"].mode()[0],inplace=True)\n",
        "df[\"Dependents\"].fillna(df[\"Dependents\"].mode()[0],inplace=True)\n",
        "df[\"Gender\"].fillna(df[\"Gender\"].mode()[0],inplace=True)\n",
        "df[\"Self_Employed\"].fillna(df[\"Self_Employed\"].mode()[0],inplace=True)"
      ]
    },
    {
      "cell_type": "markdown",
      "metadata": {
        "id": "w9kintEc0fh7"
      },
      "source": [
        "# Feature Engineering"
      ]
    },
    {
      "cell_type": "code",
      "execution_count": 11,
      "metadata": {
        "id": "9agi8WX6zKom"
      },
      "outputs": [],
      "source": [
        "df[\"TotalIncome\"] = df[\"ApplicantIncome\"] + df[\"CoapplicantIncome\"]\n",
        "\n",
        "df.drop(columns=[\"ApplicantIncome\",\"CoapplicantIncome\"],inplace=True)"
      ]
    },
    {
      "cell_type": "code",
      "execution_count": 12,
      "metadata": {
        "colab": {
          "base_uri": "https://localhost:8080/",
          "height": 261
        },
        "id": "0K3A-KD6zrWQ",
        "outputId": "070bacdf-41bd-46bb-9a67-9583c35a7ebb"
      },
      "outputs": [
        {
          "data": {
            "text/html": [
              "<div>\n",
              "<style scoped>\n",
              "    .dataframe tbody tr th:only-of-type {\n",
              "        vertical-align: middle;\n",
              "    }\n",
              "\n",
              "    .dataframe tbody tr th {\n",
              "        vertical-align: top;\n",
              "    }\n",
              "\n",
              "    .dataframe thead th {\n",
              "        text-align: right;\n",
              "    }\n",
              "</style>\n",
              "<table border=\"1\" class=\"dataframe\">\n",
              "  <thead>\n",
              "    <tr style=\"text-align: right;\">\n",
              "      <th></th>\n",
              "      <th>Gender</th>\n",
              "      <th>Married</th>\n",
              "      <th>Dependents</th>\n",
              "      <th>Education</th>\n",
              "      <th>Self_Employed</th>\n",
              "      <th>LoanAmount</th>\n",
              "      <th>Loan_Amount_Term</th>\n",
              "      <th>Credit_History</th>\n",
              "      <th>Property_Area</th>\n",
              "      <th>Loan_Status</th>\n",
              "      <th>TotalIncome</th>\n",
              "    </tr>\n",
              "  </thead>\n",
              "  <tbody>\n",
              "    <tr>\n",
              "      <th>0</th>\n",
              "      <td>Male</td>\n",
              "      <td>Yes</td>\n",
              "      <td>1</td>\n",
              "      <td>Graduate</td>\n",
              "      <td>No</td>\n",
              "      <td>128.0</td>\n",
              "      <td>360.0</td>\n",
              "      <td>1.0</td>\n",
              "      <td>Rural</td>\n",
              "      <td>N</td>\n",
              "      <td>6091.0</td>\n",
              "    </tr>\n",
              "    <tr>\n",
              "      <th>1</th>\n",
              "      <td>Male</td>\n",
              "      <td>Yes</td>\n",
              "      <td>0</td>\n",
              "      <td>Graduate</td>\n",
              "      <td>Yes</td>\n",
              "      <td>66.0</td>\n",
              "      <td>360.0</td>\n",
              "      <td>1.0</td>\n",
              "      <td>Urban</td>\n",
              "      <td>Y</td>\n",
              "      <td>3000.0</td>\n",
              "    </tr>\n",
              "    <tr>\n",
              "      <th>2</th>\n",
              "      <td>Male</td>\n",
              "      <td>Yes</td>\n",
              "      <td>0</td>\n",
              "      <td>Not Graduate</td>\n",
              "      <td>No</td>\n",
              "      <td>120.0</td>\n",
              "      <td>360.0</td>\n",
              "      <td>1.0</td>\n",
              "      <td>Urban</td>\n",
              "      <td>Y</td>\n",
              "      <td>4941.0</td>\n",
              "    </tr>\n",
              "    <tr>\n",
              "      <th>3</th>\n",
              "      <td>Male</td>\n",
              "      <td>No</td>\n",
              "      <td>0</td>\n",
              "      <td>Graduate</td>\n",
              "      <td>No</td>\n",
              "      <td>141.0</td>\n",
              "      <td>360.0</td>\n",
              "      <td>1.0</td>\n",
              "      <td>Urban</td>\n",
              "      <td>Y</td>\n",
              "      <td>6000.0</td>\n",
              "    </tr>\n",
              "    <tr>\n",
              "      <th>4</th>\n",
              "      <td>Male</td>\n",
              "      <td>Yes</td>\n",
              "      <td>0</td>\n",
              "      <td>Not Graduate</td>\n",
              "      <td>No</td>\n",
              "      <td>95.0</td>\n",
              "      <td>360.0</td>\n",
              "      <td>1.0</td>\n",
              "      <td>Urban</td>\n",
              "      <td>Y</td>\n",
              "      <td>3849.0</td>\n",
              "    </tr>\n",
              "  </tbody>\n",
              "</table>\n",
              "</div>"
            ],
            "text/plain": [
              "  Gender Married Dependents     Education Self_Employed  LoanAmount  \\\n",
              "0   Male     Yes          1      Graduate            No       128.0   \n",
              "1   Male     Yes          0      Graduate           Yes        66.0   \n",
              "2   Male     Yes          0  Not Graduate            No       120.0   \n",
              "3   Male      No          0      Graduate            No       141.0   \n",
              "4   Male     Yes          0  Not Graduate            No        95.0   \n",
              "\n",
              "   Loan_Amount_Term  Credit_History Property_Area Loan_Status  TotalIncome  \n",
              "0             360.0             1.0         Rural           N       6091.0  \n",
              "1             360.0             1.0         Urban           Y       3000.0  \n",
              "2             360.0             1.0         Urban           Y       4941.0  \n",
              "3             360.0             1.0         Urban           Y       6000.0  \n",
              "4             360.0             1.0         Urban           Y       3849.0  "
            ]
          },
          "execution_count": 12,
          "metadata": {},
          "output_type": "execute_result"
        }
      ],
      "source": [
        "df.head()"
      ]
    },
    {
      "cell_type": "markdown",
      "metadata": {
        "id": "NRKILlf_zuw3"
      },
      "source": [
        "# Types of Features"
      ]
    },
    {
      "cell_type": "code",
      "execution_count": 13,
      "metadata": {
        "colab": {
          "base_uri": "https://localhost:8080/"
        },
        "id": "J20Zo1TszsId",
        "outputId": "7bb6b7b8-1711-41c0-f7d4-af369348ca5d"
      },
      "outputs": [
        {
          "data": {
            "text/plain": [
              "4"
            ]
          },
          "execution_count": 13,
          "metadata": {},
          "output_type": "execute_result"
        }
      ],
      "source": [
        "numeric_features = df.select_dtypes(include=np.number).columns\n",
        "len(numeric_features)"
      ]
    },
    {
      "cell_type": "code",
      "execution_count": 14,
      "metadata": {
        "colab": {
          "base_uri": "https://localhost:8080/"
        },
        "id": "SlAHNm-Jz6v8",
        "outputId": "616d700e-c72b-4bc7-a65a-c77a8cb1c149"
      },
      "outputs": [
        {
          "data": {
            "text/plain": [
              "7"
            ]
          },
          "execution_count": 14,
          "metadata": {},
          "output_type": "execute_result"
        }
      ],
      "source": [
        "categorical_features = df.select_dtypes(exclude=np.number).columns\n",
        "len(categorical_features)"
      ]
    },
    {
      "cell_type": "code",
      "execution_count": 15,
      "metadata": {
        "colab": {
          "base_uri": "https://localhost:8080/"
        },
        "id": "VLl9RrHzz8Kj",
        "outputId": "9d9b4658-5ff7-4d5a-9bf4-03c824958853"
      },
      "outputs": [
        {
          "data": {
            "text/plain": [
              "2"
            ]
          },
          "execution_count": 15,
          "metadata": {},
          "output_type": "execute_result"
        }
      ],
      "source": [
        "discrete_features = [feature for feature in numeric_features if len(df[feature].unique())<=25]\n",
        "len(discrete_features)"
      ]
    },
    {
      "cell_type": "code",
      "execution_count": 16,
      "metadata": {
        "colab": {
          "base_uri": "https://localhost:8080/"
        },
        "id": "7BwOzyp60QWw",
        "outputId": "42eb63cd-3e05-4544-fc41-0970c5fd597a"
      },
      "outputs": [
        {
          "data": {
            "text/plain": [
              "2"
            ]
          },
          "execution_count": 16,
          "metadata": {},
          "output_type": "execute_result"
        }
      ],
      "source": [
        "continuous_features = [feature for feature in numeric_features if feature not in discrete_features]\n",
        "len(continuous_features)"
      ]
    },
    {
      "cell_type": "markdown",
      "metadata": {
        "id": "sIILJK5D0ilg"
      },
      "source": [
        "# Multicollinearity"
      ]
    },
    {
      "cell_type": "code",
      "execution_count": 17,
      "metadata": {
        "id": "wbW9Hbrw0Zk4"
      },
      "outputs": [],
      "source": [
        "from statsmodels.stats.outliers_influence import variance_inflation_factor\n",
        "\n",
        "def compute_vif(features,df):\n",
        "\n",
        "    X = df[features]\n",
        "    X[\"intercept\"] = 1\n",
        "\n",
        "    vif = pd.DataFrame()\n",
        "    vif[\"variable\"] = X.columns\n",
        "    vif[\"VIF\"] = [variance_inflation_factor(X.values,i) for i in range(X.shape[1])]\n",
        "    vif = vif[vif[\"variable\"]!=\"intercept\"]\n",
        "\n",
        "    return vif"
      ]
    },
    {
      "cell_type": "code",
      "execution_count": 18,
      "metadata": {
        "colab": {
          "base_uri": "https://localhost:8080/",
          "height": 175
        },
        "id": "nwBjBl4y0nij",
        "outputId": "71e924ae-6d46-4b32-c245-49f1ba8eafca"
      },
      "outputs": [
        {
          "data": {
            "text/html": [
              "<div>\n",
              "<style scoped>\n",
              "    .dataframe tbody tr th:only-of-type {\n",
              "        vertical-align: middle;\n",
              "    }\n",
              "\n",
              "    .dataframe tbody tr th {\n",
              "        vertical-align: top;\n",
              "    }\n",
              "\n",
              "    .dataframe thead th {\n",
              "        text-align: right;\n",
              "    }\n",
              "</style>\n",
              "<table border=\"1\" class=\"dataframe\">\n",
              "  <thead>\n",
              "    <tr style=\"text-align: right;\">\n",
              "      <th></th>\n",
              "      <th>variable</th>\n",
              "      <th>VIF</th>\n",
              "    </tr>\n",
              "  </thead>\n",
              "  <tbody>\n",
              "    <tr>\n",
              "      <th>0</th>\n",
              "      <td>LoanAmount</td>\n",
              "      <td>1.104492</td>\n",
              "    </tr>\n",
              "    <tr>\n",
              "      <th>1</th>\n",
              "      <td>Loan_Amount_Term</td>\n",
              "      <td>1.024910</td>\n",
              "    </tr>\n",
              "    <tr>\n",
              "      <th>2</th>\n",
              "      <td>Credit_History</td>\n",
              "      <td>1.003719</td>\n",
              "    </tr>\n",
              "    <tr>\n",
              "      <th>3</th>\n",
              "      <td>TotalIncome</td>\n",
              "      <td>1.090378</td>\n",
              "    </tr>\n",
              "  </tbody>\n",
              "</table>\n",
              "</div>"
            ],
            "text/plain": [
              "           variable       VIF\n",
              "0        LoanAmount  1.104492\n",
              "1  Loan_Amount_Term  1.024910\n",
              "2    Credit_History  1.003719\n",
              "3       TotalIncome  1.090378"
            ]
          },
          "execution_count": 18,
          "metadata": {},
          "output_type": "execute_result"
        }
      ],
      "source": [
        "compute_vif(numeric_features,df)"
      ]
    },
    {
      "cell_type": "code",
      "execution_count": 19,
      "metadata": {
        "colab": {
          "base_uri": "https://localhost:8080/",
          "height": 269
        },
        "id": "hyh1E1B70t-A",
        "outputId": "5df993b9-a680-4712-c3d0-5df009374f18"
      },
      "outputs": [
        {
          "data": {
            "text/html": [
              "<div>\n",
              "<style scoped>\n",
              "    .dataframe tbody tr th:only-of-type {\n",
              "        vertical-align: middle;\n",
              "    }\n",
              "\n",
              "    .dataframe tbody tr th {\n",
              "        vertical-align: top;\n",
              "    }\n",
              "\n",
              "    .dataframe thead th {\n",
              "        text-align: right;\n",
              "    }\n",
              "</style>\n",
              "<table border=\"1\" class=\"dataframe\">\n",
              "  <thead>\n",
              "    <tr style=\"text-align: right;\">\n",
              "      <th></th>\n",
              "      <th>Column</th>\n",
              "      <th>Hypothesis Result</th>\n",
              "    </tr>\n",
              "  </thead>\n",
              "  <tbody>\n",
              "    <tr>\n",
              "      <th>0</th>\n",
              "      <td>Gender</td>\n",
              "      <td>Fail to Reject Null Hypothesis</td>\n",
              "    </tr>\n",
              "    <tr>\n",
              "      <th>1</th>\n",
              "      <td>Married</td>\n",
              "      <td>Fail to Reject Null Hypothesis</td>\n",
              "    </tr>\n",
              "    <tr>\n",
              "      <th>2</th>\n",
              "      <td>Dependents</td>\n",
              "      <td>Fail to Reject Null Hypothesis</td>\n",
              "    </tr>\n",
              "    <tr>\n",
              "      <th>3</th>\n",
              "      <td>Education</td>\n",
              "      <td>Fail to Reject Null Hypothesis</td>\n",
              "    </tr>\n",
              "    <tr>\n",
              "      <th>4</th>\n",
              "      <td>Self_Employed</td>\n",
              "      <td>Fail to Reject Null Hypothesis</td>\n",
              "    </tr>\n",
              "    <tr>\n",
              "      <th>5</th>\n",
              "      <td>Property_Area</td>\n",
              "      <td>Reject Null Hypothesis</td>\n",
              "    </tr>\n",
              "    <tr>\n",
              "      <th>6</th>\n",
              "      <td>Loan_Status</td>\n",
              "      <td>Reject Null Hypothesis</td>\n",
              "    </tr>\n",
              "  </tbody>\n",
              "</table>\n",
              "</div>"
            ],
            "text/plain": [
              "          Column               Hypothesis Result\n",
              "0         Gender  Fail to Reject Null Hypothesis\n",
              "1        Married  Fail to Reject Null Hypothesis\n",
              "2     Dependents  Fail to Reject Null Hypothesis\n",
              "3      Education  Fail to Reject Null Hypothesis\n",
              "4  Self_Employed  Fail to Reject Null Hypothesis\n",
              "5  Property_Area          Reject Null Hypothesis\n",
              "6    Loan_Status          Reject Null Hypothesis"
            ]
          },
          "execution_count": 19,
          "metadata": {},
          "output_type": "execute_result"
        }
      ],
      "source": [
        "from scipy.stats import chi2_contingency\n",
        "chi2_test = []\n",
        "for feature in categorical_features:\n",
        "    if chi2_contingency(pd.crosstab(df['Loan_Status'], df[feature]))[1] < 0.05:\n",
        "        chi2_test.append('Reject Null Hypothesis')\n",
        "    else:\n",
        "        chi2_test.append('Fail to Reject Null Hypothesis')\n",
        "result = pd.DataFrame(data=[categorical_features, chi2_test]).T\n",
        "result.columns = ['Column', 'Hypothesis Result']\n",
        "result"
      ]
    },
    {
      "cell_type": "markdown",
      "metadata": {
        "id": "ivCAdDyR22Tc"
      },
      "source": [
        "# Outlier Handling"
      ]
    },
    {
      "cell_type": "code",
      "execution_count": 20,
      "metadata": {
        "colab": {
          "base_uri": "https://localhost:8080/"
        },
        "id": "Y4zh_6ba1ywt",
        "outputId": "0da63ccb-b914-472a-e049-6949e7375ac1"
      },
      "outputs": [
        {
          "data": {
            "text/plain": [
              "['LoanAmount', 'TotalIncome']"
            ]
          },
          "execution_count": 20,
          "metadata": {},
          "output_type": "execute_result"
        }
      ],
      "source": [
        "continuous_features"
      ]
    },
    {
      "cell_type": "code",
      "execution_count": 21,
      "metadata": {
        "colab": {
          "base_uri": "https://localhost:8080/",
          "height": 806
        },
        "id": "jUk81xM-24-O",
        "outputId": "9ebe6ecd-8a86-4ba3-e2d4-a66e5e83ed48"
      },
      "outputs": [
        {
          "data": {
            "image/png": "[encoded data removed]",
            "text/plain": [
              "<Figure size 640x480 with 1 Axes>"
            ]
          },
          "metadata": {},
          "output_type": "display_data"
        },
        {
          "data": {
            "image/png": "[encoded data removed]",
            "text/plain": [
              "<Figure size 640x480 with 1 Axes>"
            ]
          },
          "metadata": {},
          "output_type": "display_data"
        }
      ],
      "source": [
        "for feature in continuous_features:\n",
        "  sns.boxplot(df[feature])\n",
        "  plt.show()"
      ]
    },
    {
      "cell_type": "code",
      "execution_count": 22,
      "metadata": {
        "id": "3aS7CmqQ3AIx"
      },
      "outputs": [],
      "source": [
        "def detect_outliers(col):\n",
        "\n",
        "  percent25 = df[col].quantile(0.25)\n",
        "  percent75 = df[col].quantile(0.75)\n",
        "\n",
        "  IQR = percent75 - percent25\n",
        "\n",
        "  lower_limit = percent25 - 1.5 * IQR\n",
        "  upper_limit = percent75 + 1.5 * IQR\n",
        "\n",
        "  print(f\"###{col}###\")\n",
        "  print(\"Upper Limit\",upper_limit)\n",
        "  print(\"Lower Limit\",lower_limit)\n",
        "\n",
        "  df.loc[df[col]>upper_limit,col] = upper_limit\n",
        "  df.loc[df[col]<lower_limit,col] = lower_limit\n",
        "\n",
        "  return df\n"
      ]
    },
    {
      "cell_type": "code",
      "execution_count": 23,
      "metadata": {
        "colab": {
          "base_uri": "https://localhost:8080/"
        },
        "id": "b5ZbMF023g81",
        "outputId": "f37fad0e-5740-4ba5-c7d9-fdaee83862cf"
      },
      "outputs": [
        {
          "name": "stdout",
          "output_type": "stream",
          "text": [
            "###LoanAmount###\n",
            "Upper Limit 182.5\n",
            "Lower Limit 34.5\n",
            "###TotalIncome###\n",
            "Upper Limit 8254.0\n",
            "Lower Limit 910.0\n"
          ]
        }
      ],
      "source": [
        "for col in continuous_features:\n",
        "  detect_outliers(col)"
      ]
    },
    {
      "cell_type": "markdown",
      "metadata": {
        "id": "CP3AmCXC3pSy"
      },
      "source": [
        "# Data Transformations"
      ]
    },
    {
      "cell_type": "code",
      "execution_count": 24,
      "metadata": {
        "colab": {
          "base_uri": "https://localhost:8080/",
          "height": 147
        },
        "id": "Bzxq-XpE3mEC",
        "outputId": "5c0ee6da-8321-4548-9b70-e270f190f6f2"
      },
      "outputs": [
        {
          "data": {
            "text/plain": [
              "LoanAmount    -0.696848\n",
              "TotalIncome    0.512330\n",
              "dtype: float64"
            ]
          },
          "execution_count": 24,
          "metadata": {},
          "output_type": "execute_result"
        }
      ],
      "source": [
        "df[continuous_features].skew()"
      ]
    },
    {
      "cell_type": "code",
      "execution_count": 25,
      "metadata": {
        "colab": {
          "base_uri": "https://localhost:8080/",
          "height": 884
        },
        "id": "IVFc3huK3tYx",
        "outputId": "58d2f9bb-a54c-47d3-ea87-13cbf09b7f55"
      },
      "outputs": [
        {
          "data": {
            "image/png": "[encoded data removed]",
            "text/plain": [
              "<Figure size 640x480 with 1 Axes>"
            ]
          },
          "metadata": {},
          "output_type": "display_data"
        },
        {
          "data": {
            "image/png": "[encoded data removed]",
            "text/plain": [
              "<Figure size 640x480 with 1 Axes>"
            ]
          },
          "metadata": {},
          "output_type": "display_data"
        }
      ],
      "source": [
        "for i in continuous_features:\n",
        "  sns.kdeplot(df[i])\n",
        "  plt.show()"
      ]
    },
    {
      "cell_type": "markdown",
      "metadata": {
        "id": "WxhYuEYP4GTr"
      },
      "source": [
        "# Export the Data to CSV"
      ]
    },
    {
      "cell_type": "code",
      "execution_count": 26,
      "metadata": {
        "id": "2RSKxSZc39Ie"
      },
      "outputs": [],
      "source": [
        "df.to_csv(\"loan_data_cleaned.csv\",index=False)"
      ]
    },
    {
      "cell_type": "markdown",
      "metadata": {
        "id": "362YaFwt4MGx"
      },
      "source": [
        "# Split X & y"
      ]
    },
    {
      "cell_type": "code",
      "execution_count": 27,
      "metadata": {
        "id": "uPGn5kRO4K4B"
      },
      "outputs": [],
      "source": [
        "X = df.drop(columns=[\"Loan_Status\"])\n",
        "y = df[\"Loan_Status\"]"
      ]
    },
    {
      "cell_type": "code",
      "execution_count": 28,
      "metadata": {
        "colab": {
          "base_uri": "https://localhost:8080/",
          "height": 206
        },
        "id": "f_2HkTwz4Qie",
        "outputId": "9f82e224-b242-4a3d-ab1c-3bdc2c1ac97a"
      },
      "outputs": [
        {
          "data": {
            "text/html": [
              "<div>\n",
              "<style scoped>\n",
              "    .dataframe tbody tr th:only-of-type {\n",
              "        vertical-align: middle;\n",
              "    }\n",
              "\n",
              "    .dataframe tbody tr th {\n",
              "        vertical-align: top;\n",
              "    }\n",
              "\n",
              "    .dataframe thead th {\n",
              "        text-align: right;\n",
              "    }\n",
              "</style>\n",
              "<table border=\"1\" class=\"dataframe\">\n",
              "  <thead>\n",
              "    <tr style=\"text-align: right;\">\n",
              "      <th></th>\n",
              "      <th>Gender</th>\n",
              "      <th>Married</th>\n",
              "      <th>Dependents</th>\n",
              "      <th>Education</th>\n",
              "      <th>Self_Employed</th>\n",
              "      <th>LoanAmount</th>\n",
              "      <th>Loan_Amount_Term</th>\n",
              "      <th>Credit_History</th>\n",
              "      <th>Property_Area</th>\n",
              "      <th>TotalIncome</th>\n",
              "    </tr>\n",
              "  </thead>\n",
              "  <tbody>\n",
              "    <tr>\n",
              "      <th>0</th>\n",
              "      <td>Male</td>\n",
              "      <td>Yes</td>\n",
              "      <td>1</td>\n",
              "      <td>Graduate</td>\n",
              "      <td>No</td>\n",
              "      <td>128.0</td>\n",
              "      <td>360.0</td>\n",
              "      <td>1.0</td>\n",
              "      <td>Rural</td>\n",
              "      <td>6091.0</td>\n",
              "    </tr>\n",
              "    <tr>\n",
              "      <th>1</th>\n",
              "      <td>Male</td>\n",
              "      <td>Yes</td>\n",
              "      <td>0</td>\n",
              "      <td>Graduate</td>\n",
              "      <td>Yes</td>\n",
              "      <td>66.0</td>\n",
              "      <td>360.0</td>\n",
              "      <td>1.0</td>\n",
              "      <td>Urban</td>\n",
              "      <td>3000.0</td>\n",
              "    </tr>\n",
              "    <tr>\n",
              "      <th>2</th>\n",
              "      <td>Male</td>\n",
              "      <td>Yes</td>\n",
              "      <td>0</td>\n",
              "      <td>Not Graduate</td>\n",
              "      <td>No</td>\n",
              "      <td>120.0</td>\n",
              "      <td>360.0</td>\n",
              "      <td>1.0</td>\n",
              "      <td>Urban</td>\n",
              "      <td>4941.0</td>\n",
              "    </tr>\n",
              "    <tr>\n",
              "      <th>3</th>\n",
              "      <td>Male</td>\n",
              "      <td>No</td>\n",
              "      <td>0</td>\n",
              "      <td>Graduate</td>\n",
              "      <td>No</td>\n",
              "      <td>141.0</td>\n",
              "      <td>360.0</td>\n",
              "      <td>1.0</td>\n",
              "      <td>Urban</td>\n",
              "      <td>6000.0</td>\n",
              "    </tr>\n",
              "    <tr>\n",
              "      <th>4</th>\n",
              "      <td>Male</td>\n",
              "      <td>Yes</td>\n",
              "      <td>0</td>\n",
              "      <td>Not Graduate</td>\n",
              "      <td>No</td>\n",
              "      <td>95.0</td>\n",
              "      <td>360.0</td>\n",
              "      <td>1.0</td>\n",
              "      <td>Urban</td>\n",
              "      <td>3849.0</td>\n",
              "    </tr>\n",
              "  </tbody>\n",
              "</table>\n",
              "</div>"
            ],
            "text/plain": [
              "  Gender Married Dependents     Education Self_Employed  LoanAmount  \\\n",
              "0   Male     Yes          1      Graduate            No       128.0   \n",
              "1   Male     Yes          0      Graduate           Yes        66.0   \n",
              "2   Male     Yes          0  Not Graduate            No       120.0   \n",
              "3   Male      No          0      Graduate            No       141.0   \n",
              "4   Male     Yes          0  Not Graduate            No        95.0   \n",
              "\n",
              "   Loan_Amount_Term  Credit_History Property_Area  TotalIncome  \n",
              "0             360.0             1.0         Rural       6091.0  \n",
              "1             360.0             1.0         Urban       3000.0  \n",
              "2             360.0             1.0         Urban       4941.0  \n",
              "3             360.0             1.0         Urban       6000.0  \n",
              "4             360.0             1.0         Urban       3849.0  "
            ]
          },
          "execution_count": 28,
          "metadata": {},
          "output_type": "execute_result"
        }
      ],
      "source": [
        "X.head()"
      ]
    },
    {
      "cell_type": "code",
      "execution_count": 29,
      "metadata": {
        "colab": {
          "base_uri": "https://localhost:8080/",
          "height": 241
        },
        "id": "c5MyI71Y4RpW",
        "outputId": "e06de6c6-0914-4208-827c-8ea979877d72"
      },
      "outputs": [
        {
          "data": {
            "text/plain": [
              "0    N\n",
              "1    Y\n",
              "2    Y\n",
              "3    Y\n",
              "4    Y\n",
              "Name: Loan_Status, dtype: object"
            ]
          },
          "execution_count": 29,
          "metadata": {},
          "output_type": "execute_result"
        }
      ],
      "source": [
        "y.head()"
      ]
    },
    {
      "cell_type": "code",
      "execution_count": 30,
      "metadata": {
        "id": "35lfKwrq46Uy"
      },
      "outputs": [],
      "source": [
        "# Identify categorical features by selecting columns with data type 'object'\n",
        "categorical_features = X.select_dtypes(include=\"object\").columns\n",
        "\n",
        "# Identify numeric features by selecting columns with data types other than 'object'\n",
        "numeric_features = X.select_dtypes(exclude=\"object\").columns"
      ]
    },
    {
      "cell_type": "code",
      "execution_count": 31,
      "metadata": {
        "colab": {
          "base_uri": "https://localhost:8080/"
        },
        "id": "vu0GLu9E4SnT",
        "outputId": "927570c1-6f6f-4621-9d9d-2eb45447de6c"
      },
      "outputs": [
        {
          "data": {
            "text/plain": [
              "Index(['Gender', 'Married', 'Dependents', 'Education', 'Self_Employed',\n",
              "       'Property_Area'],\n",
              "      dtype='object')"
            ]
          },
          "execution_count": 31,
          "metadata": {},
          "output_type": "execute_result"
        }
      ],
      "source": [
        "categorical_features"
      ]
    },
    {
      "cell_type": "code",
      "execution_count": 32,
      "metadata": {
        "colab": {
          "base_uri": "https://localhost:8080/"
        },
        "id": "Z_IHPoFi4Xbh",
        "outputId": "fd0129bf-86e1-44d5-f2cd-b323d880768c"
      },
      "outputs": [
        {
          "data": {
            "text/plain": [
              "Index(['LoanAmount', 'Loan_Amount_Term', 'Credit_History', 'TotalIncome'], dtype='object')"
            ]
          },
          "execution_count": 32,
          "metadata": {},
          "output_type": "execute_result"
        }
      ],
      "source": [
        "numeric_features"
      ]
    },
    {
      "cell_type": "code",
      "execution_count": 33,
      "metadata": {
        "id": "vZ3AvwXF4ZFB"
      },
      "outputs": [],
      "source": [
        "from sklearn.preprocessing import OrdinalEncoder,StandardScaler\n",
        "from sklearn.compose import ColumnTransformer\n",
        "\n",
        "sc = StandardScaler()\n",
        "oe = OrdinalEncoder()\n",
        "\n",
        "preprocessor = ColumnTransformer([\n",
        "    (\"oe\",oe,categorical_features),\n",
        "    (\"sc\",sc,numeric_features)\n",
        "])\n",
        "\n",
        "X = preprocessor.fit_transform(X)\n",
        "\n",
        "y = y.map({\"Y\":1,\"N\":0})"
      ]
    },
    {
      "cell_type": "code",
      "execution_count": 34,
      "metadata": {
        "colab": {
          "base_uri": "https://localhost:8080/"
        },
        "id": "dV8kDijP4flZ",
        "outputId": "0dd34a97-9683-4699-d38c-7e52cc2d3dbd"
      },
      "outputs": [
        {
          "data": {
            "text/plain": [
              "(381, 10)"
            ]
          },
          "execution_count": 34,
          "metadata": {},
          "output_type": "execute_result"
        }
      ],
      "source": [
        "X.shape"
      ]
    },
    {
      "cell_type": "markdown",
      "metadata": {
        "id": "Zttkg0caAMcK"
      },
      "source": [
        "# Train, Test & Split"
      ]
    },
    {
      "cell_type": "code",
      "execution_count": 35,
      "metadata": {
        "id": "8VzAlXXA5MdG"
      },
      "outputs": [],
      "source": [
        "from sklearn.model_selection import train_test_split"
      ]
    },
    {
      "cell_type": "code",
      "execution_count": 36,
      "metadata": {
        "id": "zzYqp_tWATNZ"
      },
      "outputs": [],
      "source": [
        "X_train,X_test,y_train,y_test = train_test_split(X,y,test_size=0.2,random_state=42)"
      ]
    },
    {
      "cell_type": "markdown",
      "metadata": {
        "id": "Thn9VyR4AV-c"
      },
      "source": [
        "# Model Training"
      ]
    },
    {
      "cell_type": "code",
      "execution_count": 37,
      "metadata": {
        "id": "r_oAx2bsAUy8"
      },
      "outputs": [],
      "source": [
        "from sklearn.tree import DecisionTreeClassifier\n",
        "from sklearn.svm import SVC\n",
        "from sklearn.linear_model import LogisticRegression\n",
        "from sklearn.ensemble import RandomForestClassifier,AdaBoostClassifier,GradientBoostingClassifier\n",
        "from xgboost import XGBClassifier\n",
        "from sklearn.neighbors import KNeighborsClassifier\n",
        "\n",
        "from sklearn.metrics import accuracy_score,confusion_matrix,classification_report"
      ]
    },
    {
      "cell_type": "code",
      "execution_count": 38,
      "metadata": {
        "colab": {
          "base_uri": "https://localhost:8080/"
        },
        "id": "_BcDn9opAo4K",
        "outputId": "d3d4cf8d-8c3f-47b2-9079-b607e8cd0428"
      },
      "outputs": [
        {
          "name": "stdout",
          "output_type": "stream",
          "text": [
            "DecisionTree\n",
            "Model performance for Training set\n",
            "-----------------------------------\n",
            "Accuracy Score: 1.0\n",
            "Confusion Matrix: \n",
            "[[ 89   0]\n",
            " [  0 215]]\n",
            "Classification Report: \n",
            "              precision    recall  f1-score   support\n",
            "\n",
            "           0       1.00      1.00      1.00        89\n",
            "           1       1.00      1.00      1.00       215\n",
            "\n",
            "    accuracy                           1.00       304\n",
            "   macro avg       1.00      1.00      1.00       304\n",
            "weighted avg       1.00      1.00      1.00       304\n",
            "\n",
            "\n",
            "Model performance for Test set\n",
            "-----------------------------------\n",
            "Accuracy Score: 0.7142857142857143\n",
            "Confusion Matrix: \n",
            "[[12  9]\n",
            " [13 43]]\n",
            "Classification Report: \n",
            "              precision    recall  f1-score   support\n",
            "\n",
            "           0       0.48      0.57      0.52        21\n",
            "           1       0.83      0.77      0.80        56\n",
            "\n",
            "    accuracy                           0.71        77\n",
            "   macro avg       0.65      0.67      0.66        77\n",
            "weighted avg       0.73      0.71      0.72        77\n",
            "\n",
            "**************************************************\n",
            "SVC\n",
            "Model performance for Training set\n",
            "-----------------------------------\n",
            "Accuracy Score: 0.8585526315789473\n",
            "Confusion Matrix: \n",
            "[[ 49  40]\n",
            " [  3 212]]\n",
            "Classification Report: \n",
            "              precision    recall  f1-score   support\n",
            "\n",
            "           0       0.94      0.55      0.70        89\n",
            "           1       0.84      0.99      0.91       215\n",
            "\n",
            "    accuracy                           0.86       304\n",
            "   macro avg       0.89      0.77      0.80       304\n",
            "weighted avg       0.87      0.86      0.85       304\n",
            "\n",
            "\n",
            "Model performance for Test set\n",
            "-----------------------------------\n",
            "Accuracy Score: 0.8181818181818182\n",
            "Confusion Matrix: \n",
            "[[ 7 14]\n",
            " [ 0 56]]\n",
            "Classification Report: \n",
            "              precision    recall  f1-score   support\n",
            "\n",
            "           0       1.00      0.33      0.50        21\n",
            "           1       0.80      1.00      0.89        56\n",
            "\n",
            "    accuracy                           0.82        77\n",
            "   macro avg       0.90      0.67      0.69        77\n",
            "weighted avg       0.85      0.82      0.78        77\n",
            "\n",
            "**************************************************\n",
            "LogisticRegression\n",
            "Model performance for Training set\n",
            "-----------------------------------\n",
            "Accuracy Score: 0.8519736842105263\n",
            "Confusion Matrix: \n",
            "[[ 47  42]\n",
            " [  3 212]]\n",
            "Classification Report: \n",
            "              precision    recall  f1-score   support\n",
            "\n",
            "           0       0.94      0.53      0.68        89\n",
            "           1       0.83      0.99      0.90       215\n",
            "\n",
            "    accuracy                           0.85       304\n",
            "   macro avg       0.89      0.76      0.79       304\n",
            "weighted avg       0.87      0.85      0.84       304\n",
            "\n",
            "\n",
            "Model performance for Test set\n",
            "-----------------------------------\n",
            "Accuracy Score: 0.8181818181818182\n",
            "Confusion Matrix: \n",
            "[[ 7 14]\n",
            " [ 0 56]]\n",
            "Classification Report: \n",
            "              precision    recall  f1-score   support\n",
            "\n",
            "           0       1.00      0.33      0.50        21\n",
            "           1       0.80      1.00      0.89        56\n",
            "\n",
            "    accuracy                           0.82        77\n",
            "   macro avg       0.90      0.67      0.69        77\n",
            "weighted avg       0.85      0.82      0.78        77\n",
            "\n",
            "**************************************************\n",
            "RandomForest\n",
            "Model performance for Training set\n",
            "-----------------------------------\n",
            "Accuracy Score: 1.0\n",
            "Confusion Matrix: \n",
            "[[ 89   0]\n",
            " [  0 215]]\n",
            "Classification Report: \n",
            "              precision    recall  f1-score   support\n",
            "\n",
            "           0       1.00      1.00      1.00        89\n",
            "           1       1.00      1.00      1.00       215\n",
            "\n",
            "    accuracy                           1.00       304\n",
            "   macro avg       1.00      1.00      1.00       304\n",
            "weighted avg       1.00      1.00      1.00       304\n",
            "\n",
            "\n",
            "Model performance for Test set\n",
            "-----------------------------------\n",
            "Accuracy Score: 0.8051948051948052\n",
            "Confusion Matrix: \n",
            "[[ 8 13]\n",
            " [ 2 54]]\n",
            "Classification Report: \n",
            "              precision    recall  f1-score   support\n",
            "\n",
            "           0       0.80      0.38      0.52        21\n",
            "           1       0.81      0.96      0.88        56\n",
            "\n",
            "    accuracy                           0.81        77\n",
            "   macro avg       0.80      0.67      0.70        77\n",
            "weighted avg       0.80      0.81      0.78        77\n",
            "\n",
            "**************************************************\n",
            "AdaBoost\n",
            "Model performance for Training set\n",
            "-----------------------------------\n",
            "Accuracy Score: 0.8782894736842105\n",
            "Confusion Matrix: \n",
            "[[ 55  34]\n",
            " [  3 212]]\n",
            "Classification Report: \n",
            "              precision    recall  f1-score   support\n",
            "\n",
            "           0       0.95      0.62      0.75        89\n",
            "           1       0.86      0.99      0.92       215\n",
            "\n",
            "    accuracy                           0.88       304\n",
            "   macro avg       0.91      0.80      0.83       304\n",
            "weighted avg       0.89      0.88      0.87       304\n",
            "\n",
            "\n",
            "Model performance for Test set\n",
            "-----------------------------------\n",
            "Accuracy Score: 0.7792207792207793\n",
            "Confusion Matrix: \n",
            "[[ 8 13]\n",
            " [ 4 52]]\n",
            "Classification Report: \n",
            "              precision    recall  f1-score   support\n",
            "\n",
            "           0       0.67      0.38      0.48        21\n",
            "           1       0.80      0.93      0.86        56\n",
            "\n",
            "    accuracy                           0.78        77\n",
            "   macro avg       0.73      0.65      0.67        77\n",
            "weighted avg       0.76      0.78      0.76        77\n",
            "\n",
            "**************************************************\n",
            "GradientBoost\n",
            "Model performance for Training set\n",
            "-----------------------------------\n",
            "Accuracy Score: 0.9473684210526315\n",
            "Confusion Matrix: \n",
            "[[ 73  16]\n",
            " [  0 215]]\n",
            "Classification Report: \n",
            "              precision    recall  f1-score   support\n",
            "\n",
            "           0       1.00      0.82      0.90        89\n",
            "           1       0.93      1.00      0.96       215\n",
            "\n",
            "    accuracy                           0.95       304\n",
            "   macro avg       0.97      0.91      0.93       304\n",
            "weighted avg       0.95      0.95      0.95       304\n",
            "\n",
            "\n",
            "Model performance for Test set\n",
            "-----------------------------------\n",
            "Accuracy Score: 0.7662337662337663\n",
            "Confusion Matrix: \n",
            "[[ 7 14]\n",
            " [ 4 52]]\n",
            "Classification Report: \n",
            "              precision    recall  f1-score   support\n",
            "\n",
            "           0       0.64      0.33      0.44        21\n",
            "           1       0.79      0.93      0.85        56\n",
            "\n",
            "    accuracy                           0.77        77\n",
            "   macro avg       0.71      0.63      0.64        77\n",
            "weighted avg       0.75      0.77      0.74        77\n",
            "\n",
            "**************************************************\n",
            "XGBoost\n",
            "Model performance for Training set\n",
            "-----------------------------------\n",
            "Accuracy Score: 1.0\n",
            "Confusion Matrix: \n",
            "[[ 89   0]\n",
            " [  0 215]]\n",
            "Classification Report: \n",
            "              precision    recall  f1-score   support\n",
            "\n",
            "           0       1.00      1.00      1.00        89\n",
            "           1       1.00      1.00      1.00       215\n",
            "\n",
            "    accuracy                           1.00       304\n",
            "   macro avg       1.00      1.00      1.00       304\n",
            "weighted avg       1.00      1.00      1.00       304\n",
            "\n",
            "\n",
            "Model performance for Test set\n",
            "-----------------------------------\n",
            "Accuracy Score: 0.7532467532467533\n",
            "Confusion Matrix: \n",
            "[[ 8 13]\n",
            " [ 6 50]]\n",
            "Classification Report: \n",
            "              precision    recall  f1-score   support\n",
            "\n",
            "           0       0.57      0.38      0.46        21\n",
            "           1       0.79      0.89      0.84        56\n",
            "\n",
            "    accuracy                           0.75        77\n",
            "   macro avg       0.68      0.64      0.65        77\n",
            "weighted avg       0.73      0.75      0.74        77\n",
            "\n",
            "**************************************************\n",
            "KNN\n",
            "Model performance for Training set\n",
            "-----------------------------------\n",
            "Accuracy Score: 0.881578947368421\n",
            "Confusion Matrix: \n",
            "[[ 57  32]\n",
            " [  4 211]]\n",
            "Classification Report: \n",
            "              precision    recall  f1-score   support\n",
            "\n",
            "           0       0.93      0.64      0.76        89\n",
            "           1       0.87      0.98      0.92       215\n",
            "\n",
            "    accuracy                           0.88       304\n",
            "   macro avg       0.90      0.81      0.84       304\n",
            "weighted avg       0.89      0.88      0.87       304\n",
            "\n",
            "\n",
            "Model performance for Test set\n",
            "-----------------------------------\n",
            "Accuracy Score: 0.7922077922077922\n",
            "Confusion Matrix: \n",
            "[[ 7 14]\n",
            " [ 2 54]]\n",
            "Classification Report: \n",
            "              precision    recall  f1-score   support\n",
            "\n",
            "           0       0.78      0.33      0.47        21\n",
            "           1       0.79      0.96      0.87        56\n",
            "\n",
            "    accuracy                           0.79        77\n",
            "   macro avg       0.79      0.65      0.67        77\n",
            "weighted avg       0.79      0.79      0.76        77\n",
            "\n",
            "**************************************************\n"
          ]
        }
      ],
      "source": [
        "models = {\n",
        "    \"DecisionTree\":DecisionTreeClassifier(),\n",
        "    \"SVC\":SVC(),\n",
        "    \"LogisticRegression\":LogisticRegression(),\n",
        "    \"RandomForest\":RandomForestClassifier(),\n",
        "    \"AdaBoost\":AdaBoostClassifier(),\n",
        "    \"GradientBoost\":GradientBoostingClassifier(),\n",
        "    \"XGBoost\":XGBClassifier(),\n",
        "    \"KNN\":KNeighborsClassifier()\n",
        "}\n",
        "\n",
        "for i in range(len(list(models))):\n",
        "  model = list(models.values())[i]\n",
        "  model.fit(X_train, y_train) # Train model\n",
        "\n",
        "  # Make predictions\n",
        "  y_train_pred = model.predict(X_train)\n",
        "  y_test_pred = model.predict(X_test)\n",
        "\n",
        "  # Training set performance\n",
        "  model_train_accuracy = accuracy_score(y_train, y_train_pred)\n",
        "  model_train_confusion_matrix = confusion_matrix(y_train, y_train_pred)\n",
        "  model_train_classification_report = classification_report(y_train, y_train_pred)\n",
        "\n",
        "  # Test set performance\n",
        "  model_test_accuracy = accuracy_score(y_test, y_test_pred)\n",
        "  model_test_confusion_matrix = confusion_matrix(y_test, y_test_pred)\n",
        "  model_test_classification_report = classification_report(y_test, y_test_pred)\n",
        "\n",
        "  print(list(models.keys())[i])\n",
        "\n",
        "  print(\"Model performance for Training set\")\n",
        "  print(\"-\"*35)\n",
        "  print(f\"Accuracy Score: {model_train_accuracy}\")\n",
        "\n",
        "  print(f\"Confusion Matrix: \\n{model_train_confusion_matrix}\")\n",
        "\n",
        "  print(f\"Classification Report: \\n{model_train_classification_report}\")\n",
        "\n",
        "  print()\n",
        "\n",
        "  print(\"Model performance for Test set\")\n",
        "  print(\"-\"*35)\n",
        "  print(f\"Accuracy Score: {model_test_accuracy}\")\n",
        "\n",
        "  print(f\"Confusion Matrix: \\n{model_test_confusion_matrix}\")\n",
        "\n",
        "  print(f\"Classification Report: \\n{model_test_classification_report}\")\n",
        "\n",
        "  print(\"*\" * 50)"
      ]
    },
    {
      "cell_type": "markdown",
      "metadata": {
        "id": "QDxdjrLgDQIx"
      },
      "source": [
        "**Conclusion**\n",
        "- Best Balanced Model, Random Forest."
      ]
    },
    {
      "cell_type": "code",
      "execution_count": 39,
      "metadata": {
        "id": "TaU5TbLsBWp6"
      },
      "outputs": [],
      "source": [
        "rf_params = {\n",
        "    'n_estimators': [100, 200, 300,500],\n",
        "    'max_depth': [5,7,15,20],\n",
        "    'min_samples_split': [2, 5, 10],\n",
        "    'min_samples_leaf': [1, 2, 4],\n",
        "    'max_features': ['sqrt', 'log2', None]\n",
        "}"
      ]
    },
    {
      "cell_type": "code",
      "execution_count": 40,
      "metadata": {
        "id": "BQ33OJ9wD3yL"
      },
      "outputs": [],
      "source": [
        "from sklearn.model_selection import RandomizedSearchCV"
      ]
    },
    {
      "cell_type": "code",
      "execution_count": 41,
      "metadata": {
        "id": "SFEld-GbD6oF"
      },
      "outputs": [],
      "source": [
        "model = RandomForestClassifier()\n",
        "\n",
        "random = RandomizedSearchCV(\n",
        "        estimator=model,\n",
        "        param_distributions=rf_params,\n",
        "        n_iter=100,\n",
        "        cv=3,\n",
        "        verbose=2\n",
        "    )"
      ]
    },
    {
      "cell_type": "code",
      "execution_count": 42,
      "metadata": {
        "colab": {
          "base_uri": "https://localhost:8080/"
        },
        "id": "hHnr6V5fEHeI",
        "outputId": "b3316b7e-b545-4753-944f-dcd59437dc12"
      },
      "outputs": [
        {
          "name": "stdout",
          "output_type": "stream",
          "text": [
            "Fitting 3 folds for each of 100 candidates, totalling 300 fits\n",
            "[CV] END max_depth=7, max_features=sqrt, min_samples_leaf=4, min_samples_split=5, n_estimators=500; total time=   0.3s\n",
            "[CV] END max_depth=7, max_features=sqrt, min_samples_leaf=4, min_samples_split=5, n_estimators=500; total time=   0.3s\n",
            "[CV] END max_depth=7, max_features=sqrt, min_samples_leaf=4, min_samples_split=5, n_estimators=500; total time=   0.4s\n",
            "[CV] END max_depth=20, max_features=sqrt, min_samples_leaf=1, min_samples_split=10, n_estimators=200; total time=   0.1s\n",
            "[CV] END max_depth=20, max_features=sqrt, min_samples_leaf=1, min_samples_split=10, n_estimators=200; total time=   0.1s\n",
            "[CV] END max_depth=20, max_features=sqrt, min_samples_leaf=1, min_samples_split=10, n_estimators=200; total time=   0.1s\n",
            "[CV] END max_depth=15, max_features=log2, min_samples_leaf=1, min_samples_split=2, n_estimators=100; total time=   0.0s\n",
            "[CV] END max_depth=15, max_features=log2, min_samples_leaf=1, min_samples_split=2, n_estimators=100; total time=   0.0s\n",
            "[CV] END max_depth=15, max_features=log2, min_samples_leaf=1, min_samples_split=2, n_estimators=100; total time=   0.0s\n",
            "[CV] END max_depth=5, max_features=log2, min_samples_leaf=1, min_samples_split=5, n_estimators=300; total time=   0.2s\n",
            "[CV] END max_depth=5, max_features=log2, min_samples_leaf=1, min_samples_split=5, n_estimators=300; total time=   0.2s\n",
            "[CV] END max_depth=5, max_features=log2, min_samples_leaf=1, min_samples_split=5, n_estimators=300; total time=   0.2s\n",
            "[CV] END max_depth=20, max_features=log2, min_samples_leaf=1, min_samples_split=2, n_estimators=100; total time=   0.0s\n",
            "[CV] END max_depth=20, max_features=log2, min_samples_leaf=1, min_samples_split=2, n_estimators=100; total time=   0.0s\n",
            "[CV] END max_depth=20, max_features=log2, min_samples_leaf=1, min_samples_split=2, n_estimators=100; total time=   0.0s\n",
            "[CV] END max_depth=7, max_features=log2, min_samples_leaf=2, min_samples_split=2, n_estimators=200; total time=   0.1s\n",
            "[CV] END max_depth=7, max_features=log2, min_samples_leaf=2, min_samples_split=2, n_estimators=200; total time=   0.1s\n",
            "[CV] END max_depth=7, max_features=log2, min_samples_leaf=2, min_samples_split=2, n_estimators=200; total time=   0.1s\n",
            "[CV] END max_depth=5, max_features=None, min_samples_leaf=2, min_samples_split=2, n_estimators=200; total time=   0.1s\n",
            "[CV] END max_depth=5, max_features=None, min_samples_leaf=2, min_samples_split=2, n_estimators=200; total time=   0.1s\n",
            "[CV] END max_depth=5, max_features=None, min_samples_leaf=2, min_samples_split=2, n_estimators=200; total time=   0.1s\n",
            "[CV] END max_depth=20, max_features=sqrt, min_samples_leaf=2, min_samples_split=2, n_estimators=500; total time=   0.4s\n",
            "[CV] END max_depth=20, max_features=sqrt, min_samples_leaf=2, min_samples_split=2, n_estimators=500; total time=   0.4s\n",
            "[CV] END max_depth=20, max_features=sqrt, min_samples_leaf=2, min_samples_split=2, n_estimators=500; total time=   0.4s\n",
            "[CV] END max_depth=5, max_features=sqrt, min_samples_leaf=4, min_samples_split=10, n_estimators=100; total time=   0.0s\n",
            "[CV] END max_depth=5, max_features=sqrt, min_samples_leaf=4, min_samples_split=10, n_estimators=100; total time=   0.0s\n",
            "[CV] END max_depth=5, max_features=sqrt, min_samples_leaf=4, min_samples_split=10, n_estimators=100; total time=   0.0s\n",
            "[CV] END max_depth=5, max_features=sqrt, min_samples_leaf=2, min_samples_split=5, n_estimators=200; total time=   0.1s\n",
            "[CV] END max_depth=5, max_features=sqrt, min_samples_leaf=2, min_samples_split=5, n_estimators=200; total time=   0.1s\n",
            "[CV] END max_depth=5, max_features=sqrt, min_samples_leaf=2, min_samples_split=5, n_estimators=200; total time=   0.1s\n",
            "[CV] END max_depth=7, max_features=log2, min_samples_leaf=1, min_samples_split=10, n_estimators=300; total time=   0.2s\n",
            "[CV] END max_depth=7, max_features=log2, min_samples_leaf=1, min_samples_split=10, n_estimators=300; total time=   0.2s\n",
            "[CV] END max_depth=7, max_features=log2, min_samples_leaf=1, min_samples_split=10, n_estimators=300; total time=   0.2s\n",
            "[CV] END max_depth=7, max_features=sqrt, min_samples_leaf=2, min_samples_split=10, n_estimators=100; total time=   0.0s\n",
            "[CV] END max_depth=7, max_features=sqrt, min_samples_leaf=2, min_samples_split=10, n_estimators=100; total time=   0.0s\n",
            "[CV] END max_depth=7, max_features=sqrt, min_samples_leaf=2, min_samples_split=10, n_estimators=100; total time=   0.0s\n",
            "[CV] END max_depth=7, max_features=log2, min_samples_leaf=1, min_samples_split=2, n_estimators=200; total time=   0.1s\n",
            "[CV] END max_depth=7, max_features=log2, min_samples_leaf=1, min_samples_split=2, n_estimators=200; total time=   0.1s\n",
            "[CV] END max_depth=7, max_features=log2, min_samples_leaf=1, min_samples_split=2, n_estimators=200; total time=   0.1s\n",
            "[CV] END max_depth=7, max_features=None, min_samples_leaf=4, min_samples_split=2, n_estimators=500; total time=   0.4s\n",
            "[CV] END max_depth=7, max_features=None, min_samples_leaf=4, min_samples_split=2, n_estimators=500; total time=   0.5s\n",
            "[CV] END max_depth=7, max_features=None, min_samples_leaf=4, min_samples_split=2, n_estimators=500; total time=   0.4s\n",
            "[CV] END max_depth=5, max_features=None, min_samples_leaf=1, min_samples_split=2, n_estimators=100; total time=   0.0s\n",
            "[CV] END max_depth=5, max_features=None, min_samples_leaf=1, min_samples_split=2, n_estimators=100; total time=   0.0s\n",
            "[CV] END max_depth=5, max_features=None, min_samples_leaf=1, min_samples_split=2, n_estimators=100; total time=   0.0s\n",
            "[CV] END max_depth=5, max_features=log2, min_samples_leaf=1, min_samples_split=10, n_estimators=100; total time=   0.0s\n",
            "[CV] END max_depth=5, max_features=log2, min_samples_leaf=1, min_samples_split=10, n_estimators=100; total time=   0.0s\n",
            "[CV] END max_depth=5, max_features=log2, min_samples_leaf=1, min_samples_split=10, n_estimators=100; total time=   0.0s\n",
            "[CV] END max_depth=15, max_features=sqrt, min_samples_leaf=4, min_samples_split=10, n_estimators=100; total time=   0.0s\n",
            "[CV] END max_depth=15, max_features=sqrt, min_samples_leaf=4, min_samples_split=10, n_estimators=100; total time=   0.0s\n",
            "[CV] END max_depth=15, max_features=sqrt, min_samples_leaf=4, min_samples_split=10, n_estimators=100; total time=   0.0s\n",
            "[CV] END max_depth=20, max_features=log2, min_samples_leaf=2, min_samples_split=5, n_estimators=500; total time=   0.4s\n",
            "[CV] END max_depth=20, max_features=log2, min_samples_leaf=2, min_samples_split=5, n_estimators=500; total time=   0.4s\n",
            "[CV] END max_depth=20, max_features=log2, min_samples_leaf=2, min_samples_split=5, n_estimators=500; total time=   0.4s\n",
            "[CV] END max_depth=7, max_features=log2, min_samples_leaf=4, min_samples_split=10, n_estimators=300; total time=   0.2s\n",
            "[CV] END max_depth=7, max_features=log2, min_samples_leaf=4, min_samples_split=10, n_estimators=300; total time=   0.2s\n",
            "[CV] END max_depth=7, max_features=log2, min_samples_leaf=4, min_samples_split=10, n_estimators=300; total time=   0.2s\n",
            "[CV] END max_depth=7, max_features=log2, min_samples_leaf=2, min_samples_split=5, n_estimators=200; total time=   0.1s\n",
            "[CV] END max_depth=7, max_features=log2, min_samples_leaf=2, min_samples_split=5, n_estimators=200; total time=   0.1s\n",
            "[CV] END max_depth=7, max_features=log2, min_samples_leaf=2, min_samples_split=5, n_estimators=200; total time=   0.1s\n",
            "[CV] END max_depth=15, max_features=log2, min_samples_leaf=4, min_samples_split=5, n_estimators=100; total time=   0.0s\n",
            "[CV] END max_depth=15, max_features=log2, min_samples_leaf=4, min_samples_split=5, n_estimators=100; total time=   0.0s\n",
            "[CV] END max_depth=15, max_features=log2, min_samples_leaf=4, min_samples_split=5, n_estimators=100; total time=   0.0s\n",
            "[CV] END max_depth=15, max_features=None, min_samples_leaf=1, min_samples_split=2, n_estimators=300; total time=   0.3s\n",
            "[CV] END max_depth=15, max_features=None, min_samples_leaf=1, min_samples_split=2, n_estimators=300; total time=   0.3s\n",
            "[CV] END max_depth=15, max_features=None, min_samples_leaf=1, min_samples_split=2, n_estimators=300; total time=   0.2s\n",
            "[CV] END max_depth=5, max_features=None, min_samples_leaf=4, min_samples_split=5, n_estimators=100; total time=   0.0s\n",
            "[CV] END max_depth=5, max_features=None, min_samples_leaf=4, min_samples_split=5, n_estimators=100; total time=   0.0s\n",
            "[CV] END max_depth=5, max_features=None, min_samples_leaf=4, min_samples_split=5, n_estimators=100; total time=   0.0s\n",
            "[CV] END max_depth=7, max_features=log2, min_samples_leaf=2, min_samples_split=10, n_estimators=200; total time=   0.1s\n",
            "[CV] END max_depth=7, max_features=log2, min_samples_leaf=2, min_samples_split=10, n_estimators=200; total time=   0.1s\n",
            "[CV] END max_depth=7, max_features=log2, min_samples_leaf=2, min_samples_split=10, n_estimators=200; total time=   0.1s\n",
            "[CV] END max_depth=7, max_features=None, min_samples_leaf=1, min_samples_split=5, n_estimators=300; total time=   0.2s\n",
            "[CV] END max_depth=7, max_features=None, min_samples_leaf=1, min_samples_split=5, n_estimators=300; total time=   0.2s\n",
            "[CV] END max_depth=7, max_features=None, min_samples_leaf=1, min_samples_split=5, n_estimators=300; total time=   0.2s\n",
            "[CV] END max_depth=5, max_features=sqrt, min_samples_leaf=4, min_samples_split=2, n_estimators=500; total time=   0.3s\n",
            "[CV] END max_depth=5, max_features=sqrt, min_samples_leaf=4, min_samples_split=2, n_estimators=500; total time=   0.3s\n",
            "[CV] END max_depth=5, max_features=sqrt, min_samples_leaf=4, min_samples_split=2, n_estimators=500; total time=   0.4s\n",
            "[CV] END max_depth=15, max_features=None, min_samples_leaf=4, min_samples_split=10, n_estimators=500; total time=   0.5s\n",
            "[CV] END max_depth=15, max_features=None, min_samples_leaf=4, min_samples_split=10, n_estimators=500; total time=   0.4s\n",
            "[CV] END max_depth=15, max_features=None, min_samples_leaf=4, min_samples_split=10, n_estimators=500; total time=   0.4s\n",
            "[CV] END max_depth=7, max_features=sqrt, min_samples_leaf=4, min_samples_split=2, n_estimators=100; total time=   0.0s\n",
            "[CV] END max_depth=7, max_features=sqrt, min_samples_leaf=4, min_samples_split=2, n_estimators=100; total time=   0.0s\n",
            "[CV] END max_depth=7, max_features=sqrt, min_samples_leaf=4, min_samples_split=2, n_estimators=100; total time=   0.0s\n",
            "[CV] END max_depth=20, max_features=None, min_samples_leaf=2, min_samples_split=10, n_estimators=200; total time=   0.1s\n",
            "[CV] END max_depth=20, max_features=None, min_samples_leaf=2, min_samples_split=10, n_estimators=200; total time=   0.1s\n",
            "[CV] END max_depth=20, max_features=None, min_samples_leaf=2, min_samples_split=10, n_estimators=200; total time=   0.1s\n",
            "[CV] END max_depth=15, max_features=sqrt, min_samples_leaf=2, min_samples_split=2, n_estimators=100; total time=   0.0s\n",
            "[CV] END max_depth=15, max_features=sqrt, min_samples_leaf=2, min_samples_split=2, n_estimators=100; total time=   0.0s\n",
            "[CV] END max_depth=15, max_features=sqrt, min_samples_leaf=2, min_samples_split=2, n_estimators=100; total time=   0.0s\n",
            "[CV] END max_depth=5, max_features=sqrt, min_samples_leaf=2, min_samples_split=5, n_estimators=300; total time=   0.2s\n",
            "[CV] END max_depth=5, max_features=sqrt, min_samples_leaf=2, min_samples_split=5, n_estimators=300; total time=   0.2s\n",
            "[CV] END max_depth=5, max_features=sqrt, min_samples_leaf=2, min_samples_split=5, n_estimators=300; total time=   0.2s\n",
            "[CV] END max_depth=15, max_features=None, min_samples_leaf=4, min_samples_split=10, n_estimators=300; total time=   0.2s\n",
            "[CV] END max_depth=15, max_features=None, min_samples_leaf=4, min_samples_split=10, n_estimators=300; total time=   0.2s\n",
            "[CV] END max_depth=15, max_features=None, min_samples_leaf=4, min_samples_split=10, n_estimators=300; total time=   0.2s\n",
            "[CV] END max_depth=15, max_features=None, min_samples_leaf=4, min_samples_split=2, n_estimators=300; total time=   0.2s\n",
            "[CV] END max_depth=15, max_features=None, min_samples_leaf=4, min_samples_split=2, n_estimators=300; total time=   0.2s\n",
            "[CV] END max_depth=15, max_features=None, min_samples_leaf=4, min_samples_split=2, n_estimators=300; total time=   0.2s\n",
            "[CV] END max_depth=15, max_features=None, min_samples_leaf=2, min_samples_split=10, n_estimators=200; total time=   0.1s\n",
            "[CV] END max_depth=15, max_features=None, min_samples_leaf=2, min_samples_split=10, n_estimators=200; total time=   0.1s\n",
            "[CV] END max_depth=15, max_features=None, min_samples_leaf=2, min_samples_split=10, n_estimators=200; total time=   0.1s\n",
            "[CV] END max_depth=20, max_features=sqrt, min_samples_leaf=4, min_samples_split=10, n_estimators=500; total time=   0.3s\n",
            "[CV] END max_depth=20, max_features=sqrt, min_samples_leaf=4, min_samples_split=10, n_estimators=500; total time=   0.3s\n",
            "[CV] END max_depth=20, max_features=sqrt, min_samples_leaf=4, min_samples_split=10, n_estimators=500; total time=   0.3s\n",
            "[CV] END max_depth=7, max_features=None, min_samples_leaf=1, min_samples_split=5, n_estimators=100; total time=   0.0s\n",
            "[CV] END max_depth=7, max_features=None, min_samples_leaf=1, min_samples_split=5, n_estimators=100; total time=   0.0s\n",
            "[CV] END max_depth=7, max_features=None, min_samples_leaf=1, min_samples_split=5, n_estimators=100; total time=   0.0s\n",
            "[CV] END max_depth=7, max_features=log2, min_samples_leaf=2, min_samples_split=5, n_estimators=500; total time=   0.3s\n",
            "[CV] END max_depth=7, max_features=log2, min_samples_leaf=2, min_samples_split=5, n_estimators=500; total time=   0.3s\n",
            "[CV] END max_depth=7, max_features=log2, min_samples_leaf=2, min_samples_split=5, n_estimators=500; total time=   0.3s\n",
            "[CV] END max_depth=20, max_features=sqrt, min_samples_leaf=2, min_samples_split=5, n_estimators=300; total time=   0.2s\n",
            "[CV] END max_depth=20, max_features=sqrt, min_samples_leaf=2, min_samples_split=5, n_estimators=300; total time=   0.2s\n",
            "[CV] END max_depth=20, max_features=sqrt, min_samples_leaf=2, min_samples_split=5, n_estimators=300; total time=   0.2s\n",
            "[CV] END max_depth=7, max_features=log2, min_samples_leaf=4, min_samples_split=2, n_estimators=200; total time=   0.1s\n",
            "[CV] END max_depth=7, max_features=log2, min_samples_leaf=4, min_samples_split=2, n_estimators=200; total time=   0.1s\n",
            "[CV] END max_depth=7, max_features=log2, min_samples_leaf=4, min_samples_split=2, n_estimators=200; total time=   0.1s\n",
            "[CV] END max_depth=15, max_features=log2, min_samples_leaf=4, min_samples_split=2, n_estimators=200; total time=   0.1s\n",
            "[CV] END max_depth=15, max_features=log2, min_samples_leaf=4, min_samples_split=2, n_estimators=200; total time=   0.1s\n",
            "[CV] END max_depth=15, max_features=log2, min_samples_leaf=4, min_samples_split=2, n_estimators=200; total time=   0.1s\n",
            "[CV] END max_depth=7, max_features=None, min_samples_leaf=2, min_samples_split=5, n_estimators=100; total time=   0.0s\n",
            "[CV] END max_depth=7, max_features=None, min_samples_leaf=2, min_samples_split=5, n_estimators=100; total time=   0.0s\n",
            "[CV] END max_depth=7, max_features=None, min_samples_leaf=2, min_samples_split=5, n_estimators=100; total time=   0.0s\n",
            "[CV] END max_depth=5, max_features=sqrt, min_samples_leaf=2, min_samples_split=10, n_estimators=200; total time=   0.1s\n",
            "[CV] END max_depth=5, max_features=sqrt, min_samples_leaf=2, min_samples_split=10, n_estimators=200; total time=   0.1s\n",
            "[CV] END max_depth=5, max_features=sqrt, min_samples_leaf=2, min_samples_split=10, n_estimators=200; total time=   0.1s\n",
            "[CV] END max_depth=15, max_features=log2, min_samples_leaf=2, min_samples_split=10, n_estimators=100; total time=   0.0s\n",
            "[CV] END max_depth=15, max_features=log2, min_samples_leaf=2, min_samples_split=10, n_estimators=100; total time=   0.0s\n",
            "[CV] END max_depth=15, max_features=log2, min_samples_leaf=2, min_samples_split=10, n_estimators=100; total time=   0.0s\n",
            "[CV] END max_depth=7, max_features=sqrt, min_samples_leaf=4, min_samples_split=2, n_estimators=500; total time=   0.3s\n",
            "[CV] END max_depth=7, max_features=sqrt, min_samples_leaf=4, min_samples_split=2, n_estimators=500; total time=   0.3s\n",
            "[CV] END max_depth=7, max_features=sqrt, min_samples_leaf=4, min_samples_split=2, n_estimators=500; total time=   0.3s\n",
            "[CV] END max_depth=5, max_features=log2, min_samples_leaf=4, min_samples_split=5, n_estimators=500; total time=   0.3s\n",
            "[CV] END max_depth=5, max_features=log2, min_samples_leaf=4, min_samples_split=5, n_estimators=500; total time=   0.3s\n",
            "[CV] END max_depth=5, max_features=log2, min_samples_leaf=4, min_samples_split=5, n_estimators=500; total time=   0.3s\n",
            "[CV] END max_depth=20, max_features=log2, min_samples_leaf=1, min_samples_split=2, n_estimators=300; total time=   0.2s\n",
            "[CV] END max_depth=20, max_features=log2, min_samples_leaf=1, min_samples_split=2, n_estimators=300; total time=   0.2s\n",
            "[CV] END max_depth=20, max_features=log2, min_samples_leaf=1, min_samples_split=2, n_estimators=300; total time=   0.2s\n",
            "[CV] END max_depth=20, max_features=None, min_samples_leaf=2, min_samples_split=2, n_estimators=300; total time=   0.2s\n",
            "[CV] END max_depth=20, max_features=None, min_samples_leaf=2, min_samples_split=2, n_estimators=300; total time=   0.2s\n",
            "[CV] END max_depth=20, max_features=None, min_samples_leaf=2, min_samples_split=2, n_estimators=300; total time=   0.2s\n",
            "[CV] END max_depth=20, max_features=None, min_samples_leaf=4, min_samples_split=10, n_estimators=200; total time=   0.1s\n",
            "[CV] END max_depth=20, max_features=None, min_samples_leaf=4, min_samples_split=10, n_estimators=200; total time=   0.1s\n",
            "[CV] END max_depth=20, max_features=None, min_samples_leaf=4, min_samples_split=10, n_estimators=200; total time=   0.1s\n",
            "[CV] END max_depth=5, max_features=log2, min_samples_leaf=2, min_samples_split=5, n_estimators=500; total time=   0.3s\n",
            "[CV] END max_depth=5, max_features=log2, min_samples_leaf=2, min_samples_split=5, n_estimators=500; total time=   0.3s\n",
            "[CV] END max_depth=5, max_features=log2, min_samples_leaf=2, min_samples_split=5, n_estimators=500; total time=   0.3s\n",
            "[CV] END max_depth=7, max_features=sqrt, min_samples_leaf=1, min_samples_split=2, n_estimators=100; total time=   0.0s\n",
            "[CV] END max_depth=7, max_features=sqrt, min_samples_leaf=1, min_samples_split=2, n_estimators=100; total time=   0.0s\n",
            "[CV] END max_depth=7, max_features=sqrt, min_samples_leaf=1, min_samples_split=2, n_estimators=100; total time=   0.0s\n",
            "[CV] END max_depth=5, max_features=log2, min_samples_leaf=4, min_samples_split=2, n_estimators=500; total time=   0.3s\n",
            "[CV] END max_depth=5, max_features=log2, min_samples_leaf=4, min_samples_split=2, n_estimators=500; total time=   0.3s\n",
            "[CV] END max_depth=5, max_features=log2, min_samples_leaf=4, min_samples_split=2, n_estimators=500; total time=   0.3s\n",
            "[CV] END max_depth=20, max_features=sqrt, min_samples_leaf=1, min_samples_split=10, n_estimators=100; total time=   0.0s\n",
            "[CV] END max_depth=20, max_features=sqrt, min_samples_leaf=1, min_samples_split=10, n_estimators=100; total time=   0.0s\n",
            "[CV] END max_depth=20, max_features=sqrt, min_samples_leaf=1, min_samples_split=10, n_estimators=100; total time=   0.0s\n",
            "[CV] END max_depth=5, max_features=sqrt, min_samples_leaf=2, min_samples_split=2, n_estimators=300; total time=   0.1s\n",
            "[CV] END max_depth=5, max_features=sqrt, min_samples_leaf=2, min_samples_split=2, n_estimators=300; total time=   0.1s\n",
            "[CV] END max_depth=5, max_features=sqrt, min_samples_leaf=2, min_samples_split=2, n_estimators=300; total time=   0.1s\n",
            "[CV] END max_depth=15, max_features=log2, min_samples_leaf=4, min_samples_split=10, n_estimators=200; total time=   0.1s\n",
            "[CV] END max_depth=15, max_features=log2, min_samples_leaf=4, min_samples_split=10, n_estimators=200; total time=   0.1s\n",
            "[CV] END max_depth=15, max_features=log2, min_samples_leaf=4, min_samples_split=10, n_estimators=200; total time=   0.1s\n",
            "[CV] END max_depth=5, max_features=None, min_samples_leaf=2, min_samples_split=10, n_estimators=200; total time=   0.1s\n",
            "[CV] END max_depth=5, max_features=None, min_samples_leaf=2, min_samples_split=10, n_estimators=200; total time=   0.1s\n",
            "[CV] END max_depth=5, max_features=None, min_samples_leaf=2, min_samples_split=10, n_estimators=200; total time=   0.1s\n",
            "[CV] END max_depth=20, max_features=None, min_samples_leaf=2, min_samples_split=5, n_estimators=100; total time=   0.0s\n",
            "[CV] END max_depth=20, max_features=None, min_samples_leaf=2, min_samples_split=5, n_estimators=100; total time=   0.0s\n",
            "[CV] END max_depth=20, max_features=None, min_samples_leaf=2, min_samples_split=5, n_estimators=100; total time=   0.0s\n",
            "[CV] END max_depth=5, max_features=sqrt, min_samples_leaf=1, min_samples_split=10, n_estimators=100; total time=   0.0s\n",
            "[CV] END max_depth=5, max_features=sqrt, min_samples_leaf=1, min_samples_split=10, n_estimators=100; total time=   0.0s\n",
            "[CV] END max_depth=5, max_features=sqrt, min_samples_leaf=1, min_samples_split=10, n_estimators=100; total time=   0.0s\n",
            "[CV] END max_depth=7, max_features=None, min_samples_leaf=4, min_samples_split=2, n_estimators=300; total time=   0.2s\n",
            "[CV] END max_depth=7, max_features=None, min_samples_leaf=4, min_samples_split=2, n_estimators=300; total time=   0.2s\n",
            "[CV] END max_depth=7, max_features=None, min_samples_leaf=4, min_samples_split=2, n_estimators=300; total time=   0.2s\n",
            "[CV] END max_depth=15, max_features=sqrt, min_samples_leaf=1, min_samples_split=2, n_estimators=300; total time=   0.2s\n",
            "[CV] END max_depth=15, max_features=sqrt, min_samples_leaf=1, min_samples_split=2, n_estimators=300; total time=   0.2s\n",
            "[CV] END max_depth=15, max_features=sqrt, min_samples_leaf=1, min_samples_split=2, n_estimators=300; total time=   0.2s\n",
            "[CV] END max_depth=5, max_features=log2, min_samples_leaf=1, min_samples_split=2, n_estimators=100; total time=   0.0s\n",
            "[CV] END max_depth=5, max_features=log2, min_samples_leaf=1, min_samples_split=2, n_estimators=100; total time=   0.0s\n",
            "[CV] END max_depth=5, max_features=log2, min_samples_leaf=1, min_samples_split=2, n_estimators=100; total time=   0.0s\n",
            "[CV] END max_depth=5, max_features=log2, min_samples_leaf=4, min_samples_split=5, n_estimators=300; total time=   0.1s\n",
            "[CV] END max_depth=5, max_features=log2, min_samples_leaf=4, min_samples_split=5, n_estimators=300; total time=   0.1s\n",
            "[CV] END max_depth=5, max_features=log2, min_samples_leaf=4, min_samples_split=5, n_estimators=300; total time=   0.1s\n",
            "[CV] END max_depth=15, max_features=None, min_samples_leaf=2, min_samples_split=5, n_estimators=500; total time=   0.4s\n",
            "[CV] END max_depth=15, max_features=None, min_samples_leaf=2, min_samples_split=5, n_estimators=500; total time=   0.4s\n",
            "[CV] END max_depth=15, max_features=None, min_samples_leaf=2, min_samples_split=5, n_estimators=500; total time=   0.4s\n",
            "[CV] END max_depth=20, max_features=sqrt, min_samples_leaf=1, min_samples_split=5, n_estimators=500; total time=   0.3s\n",
            "[CV] END max_depth=20, max_features=sqrt, min_samples_leaf=1, min_samples_split=5, n_estimators=500; total time=   0.3s\n",
            "[CV] END max_depth=20, max_features=sqrt, min_samples_leaf=1, min_samples_split=5, n_estimators=500; total time=   0.3s\n",
            "[CV] END max_depth=15, max_features=None, min_samples_leaf=4, min_samples_split=5, n_estimators=200; total time=   0.1s\n",
            "[CV] END max_depth=15, max_features=None, min_samples_leaf=4, min_samples_split=5, n_estimators=200; total time=   0.1s\n",
            "[CV] END max_depth=15, max_features=None, min_samples_leaf=4, min_samples_split=5, n_estimators=200; total time=   0.1s\n",
            "[CV] END max_depth=20, max_features=sqrt, min_samples_leaf=4, min_samples_split=2, n_estimators=500; total time=   0.3s\n",
            "[CV] END max_depth=20, max_features=sqrt, min_samples_leaf=4, min_samples_split=2, n_estimators=500; total time=   0.3s\n",
            "[CV] END max_depth=20, max_features=sqrt, min_samples_leaf=4, min_samples_split=2, n_estimators=500; total time=   0.3s\n",
            "[CV] END max_depth=5, max_features=sqrt, min_samples_leaf=4, min_samples_split=10, n_estimators=500; total time=   0.3s\n",
            "[CV] END max_depth=5, max_features=sqrt, min_samples_leaf=4, min_samples_split=10, n_estimators=500; total time=   0.3s\n",
            "[CV] END max_depth=5, max_features=sqrt, min_samples_leaf=4, min_samples_split=10, n_estimators=500; total time=   0.3s\n",
            "[CV] END max_depth=5, max_features=sqrt, min_samples_leaf=2, min_samples_split=10, n_estimators=300; total time=   0.1s\n",
            "[CV] END max_depth=5, max_features=sqrt, min_samples_leaf=2, min_samples_split=10, n_estimators=300; total time=   0.1s\n",
            "[CV] END max_depth=5, max_features=sqrt, min_samples_leaf=2, min_samples_split=10, n_estimators=300; total time=   0.1s\n",
            "[CV] END max_depth=7, max_features=sqrt, min_samples_leaf=2, min_samples_split=5, n_estimators=300; total time=   0.2s\n",
            "[CV] END max_depth=7, max_features=sqrt, min_samples_leaf=2, min_samples_split=5, n_estimators=300; total time=   0.2s\n",
            "[CV] END max_depth=7, max_features=sqrt, min_samples_leaf=2, min_samples_split=5, n_estimators=300; total time=   0.2s\n",
            "[CV] END max_depth=15, max_features=log2, min_samples_leaf=4, min_samples_split=2, n_estimators=100; total time=   0.0s\n",
            "[CV] END max_depth=15, max_features=log2, min_samples_leaf=4, min_samples_split=2, n_estimators=100; total time=   0.0s\n",
            "[CV] END max_depth=15, max_features=log2, min_samples_leaf=4, min_samples_split=2, n_estimators=100; total time=   0.0s\n",
            "[CV] END max_depth=5, max_features=None, min_samples_leaf=2, min_samples_split=5, n_estimators=200; total time=   0.1s\n",
            "[CV] END max_depth=5, max_features=None, min_samples_leaf=2, min_samples_split=5, n_estimators=200; total time=   0.1s\n",
            "[CV] END max_depth=5, max_features=None, min_samples_leaf=2, min_samples_split=5, n_estimators=200; total time=   0.1s\n",
            "[CV] END max_depth=7, max_features=sqrt, min_samples_leaf=1, min_samples_split=10, n_estimators=300; total time=   0.2s\n",
            "[CV] END max_depth=7, max_features=sqrt, min_samples_leaf=1, min_samples_split=10, n_estimators=300; total time=   0.2s\n",
            "[CV] END max_depth=7, max_features=sqrt, min_samples_leaf=1, min_samples_split=10, n_estimators=300; total time=   0.2s\n",
            "[CV] END max_depth=20, max_features=None, min_samples_leaf=1, min_samples_split=5, n_estimators=100; total time=   0.0s\n",
            "[CV] END max_depth=20, max_features=None, min_samples_leaf=1, min_samples_split=5, n_estimators=100; total time=   0.0s\n",
            "[CV] END max_depth=20, max_features=None, min_samples_leaf=1, min_samples_split=5, n_estimators=100; total time=   0.0s\n",
            "[CV] END max_depth=15, max_features=log2, min_samples_leaf=2, min_samples_split=10, n_estimators=200; total time=   0.1s\n",
            "[CV] END max_depth=15, max_features=log2, min_samples_leaf=2, min_samples_split=10, n_estimators=200; total time=   0.1s\n",
            "[CV] END max_depth=15, max_features=log2, min_samples_leaf=2, min_samples_split=10, n_estimators=200; total time=   0.1s\n",
            "[CV] END max_depth=15, max_features=log2, min_samples_leaf=2, min_samples_split=2, n_estimators=200; total time=   0.1s\n",
            "[CV] END max_depth=15, max_features=log2, min_samples_leaf=2, min_samples_split=2, n_estimators=200; total time=   0.1s\n",
            "[CV] END max_depth=15, max_features=log2, min_samples_leaf=2, min_samples_split=2, n_estimators=200; total time=   0.1s\n",
            "[CV] END max_depth=15, max_features=None, min_samples_leaf=2, min_samples_split=10, n_estimators=100; total time=   0.0s\n",
            "[CV] END max_depth=15, max_features=None, min_samples_leaf=2, min_samples_split=10, n_estimators=100; total time=   0.0s\n",
            "[CV] END max_depth=15, max_features=None, min_samples_leaf=2, min_samples_split=10, n_estimators=100; total time=   0.0s\n",
            "[CV] END max_depth=20, max_features=None, min_samples_leaf=4, min_samples_split=5, n_estimators=100; total time=   0.0s\n",
            "[CV] END max_depth=20, max_features=None, min_samples_leaf=4, min_samples_split=5, n_estimators=100; total time=   0.0s\n",
            "[CV] END max_depth=20, max_features=None, min_samples_leaf=4, min_samples_split=5, n_estimators=100; total time=   0.0s\n",
            "[CV] END max_depth=20, max_features=None, min_samples_leaf=1, min_samples_split=10, n_estimators=100; total time=   0.0s\n",
            "[CV] END max_depth=20, max_features=None, min_samples_leaf=1, min_samples_split=10, n_estimators=100; total time=   0.0s\n",
            "[CV] END max_depth=20, max_features=None, min_samples_leaf=1, min_samples_split=10, n_estimators=100; total time=   0.0s\n",
            "[CV] END max_depth=5, max_features=sqrt, min_samples_leaf=1, min_samples_split=10, n_estimators=200; total time=   0.1s\n",
            "[CV] END max_depth=5, max_features=sqrt, min_samples_leaf=1, min_samples_split=10, n_estimators=200; total time=   0.1s\n",
            "[CV] END max_depth=5, max_features=sqrt, min_samples_leaf=1, min_samples_split=10, n_estimators=200; total time=   0.1s\n",
            "[CV] END max_depth=5, max_features=log2, min_samples_leaf=1, min_samples_split=10, n_estimators=500; total time=   0.3s\n",
            "[CV] END max_depth=5, max_features=log2, min_samples_leaf=1, min_samples_split=10, n_estimators=500; total time=   0.3s\n",
            "[CV] END max_depth=5, max_features=log2, min_samples_leaf=1, min_samples_split=10, n_estimators=500; total time=   0.3s\n",
            "[CV] END max_depth=5, max_features=sqrt, min_samples_leaf=4, min_samples_split=2, n_estimators=300; total time=   0.1s\n",
            "[CV] END max_depth=5, max_features=sqrt, min_samples_leaf=4, min_samples_split=2, n_estimators=300; total time=   0.1s\n",
            "[CV] END max_depth=5, max_features=sqrt, min_samples_leaf=4, min_samples_split=2, n_estimators=300; total time=   0.1s\n",
            "[CV] END max_depth=15, max_features=sqrt, min_samples_leaf=1, min_samples_split=10, n_estimators=300; total time=   0.2s\n",
            "[CV] END max_depth=15, max_features=sqrt, min_samples_leaf=1, min_samples_split=10, n_estimators=300; total time=   0.2s\n",
            "[CV] END max_depth=15, max_features=sqrt, min_samples_leaf=1, min_samples_split=10, n_estimators=300; total time=   0.2s\n",
            "[CV] END max_depth=7, max_features=sqrt, min_samples_leaf=1, min_samples_split=5, n_estimators=300; total time=   0.2s\n",
            "[CV] END max_depth=7, max_features=sqrt, min_samples_leaf=1, min_samples_split=5, n_estimators=300; total time=   0.2s\n",
            "[CV] END max_depth=7, max_features=sqrt, min_samples_leaf=1, min_samples_split=5, n_estimators=300; total time=   0.2s\n",
            "[CV] END max_depth=20, max_features=log2, min_samples_leaf=4, min_samples_split=2, n_estimators=500; total time=   0.3s\n",
            "[CV] END max_depth=20, max_features=log2, min_samples_leaf=4, min_samples_split=2, n_estimators=500; total time=   0.3s\n",
            "[CV] END max_depth=20, max_features=log2, min_samples_leaf=4, min_samples_split=2, n_estimators=500; total time=   0.3s\n",
            "[CV] END max_depth=15, max_features=sqrt, min_samples_leaf=2, min_samples_split=5, n_estimators=300; total time=   0.2s\n",
            "[CV] END max_depth=15, max_features=sqrt, min_samples_leaf=2, min_samples_split=5, n_estimators=300; total time=   0.2s\n",
            "[CV] END max_depth=15, max_features=sqrt, min_samples_leaf=2, min_samples_split=5, n_estimators=300; total time=   0.2s\n",
            "[CV] END max_depth=15, max_features=sqrt, min_samples_leaf=1, min_samples_split=10, n_estimators=200; total time=   0.1s\n",
            "[CV] END max_depth=15, max_features=sqrt, min_samples_leaf=1, min_samples_split=10, n_estimators=200; total time=   0.1s\n",
            "[CV] END max_depth=15, max_features=sqrt, min_samples_leaf=1, min_samples_split=10, n_estimators=200; total time=   0.1s\n",
            "[CV] END max_depth=5, max_features=sqrt, min_samples_leaf=4, min_samples_split=2, n_estimators=200; total time=   0.1s\n",
            "[CV] END max_depth=5, max_features=sqrt, min_samples_leaf=4, min_samples_split=2, n_estimators=200; total time=   0.1s\n",
            "[CV] END max_depth=5, max_features=sqrt, min_samples_leaf=4, min_samples_split=2, n_estimators=200; total time=   0.1s\n",
            "[CV] END max_depth=20, max_features=sqrt, min_samples_leaf=1, min_samples_split=2, n_estimators=200; total time=   0.1s\n",
            "[CV] END max_depth=20, max_features=sqrt, min_samples_leaf=1, min_samples_split=2, n_estimators=200; total time=   0.1s\n",
            "[CV] END max_depth=20, max_features=sqrt, min_samples_leaf=1, min_samples_split=2, n_estimators=200; total time=   0.1s\n",
            "[CV] END max_depth=15, max_features=log2, min_samples_leaf=1, min_samples_split=5, n_estimators=500; total time=   0.3s\n",
            "[CV] END max_depth=15, max_features=log2, min_samples_leaf=1, min_samples_split=5, n_estimators=500; total time=   0.3s\n",
            "[CV] END max_depth=15, max_features=log2, min_samples_leaf=1, min_samples_split=5, n_estimators=500; total time=   0.3s\n",
            "[CV] END max_depth=15, max_features=sqrt, min_samples_leaf=4, min_samples_split=10, n_estimators=200; total time=   0.1s\n",
            "[CV] END max_depth=15, max_features=sqrt, min_samples_leaf=4, min_samples_split=10, n_estimators=200; total time=   0.1s\n",
            "[CV] END max_depth=15, max_features=sqrt, min_samples_leaf=4, min_samples_split=10, n_estimators=200; total time=   0.1s\n",
            "[CV] END max_depth=15, max_features=sqrt, min_samples_leaf=1, min_samples_split=10, n_estimators=100; total time=   0.0s\n",
            "[CV] END max_depth=15, max_features=sqrt, min_samples_leaf=1, min_samples_split=10, n_estimators=100; total time=   0.0s\n",
            "[CV] END max_depth=15, max_features=sqrt, min_samples_leaf=1, min_samples_split=10, n_estimators=100; total time=   0.0s\n",
            "[CV] END max_depth=5, max_features=log2, min_samples_leaf=2, min_samples_split=2, n_estimators=100; total time=   0.0s\n",
            "[CV] END max_depth=5, max_features=log2, min_samples_leaf=2, min_samples_split=2, n_estimators=100; total time=   0.0s\n",
            "[CV] END max_depth=5, max_features=log2, min_samples_leaf=2, min_samples_split=2, n_estimators=100; total time=   0.0s\n",
            "[CV] END max_depth=7, max_features=None, min_samples_leaf=4, min_samples_split=2, n_estimators=200; total time=   0.1s\n",
            "[CV] END max_depth=7, max_features=None, min_samples_leaf=4, min_samples_split=2, n_estimators=200; total time=   0.1s\n",
            "[CV] END max_depth=7, max_features=None, min_samples_leaf=4, min_samples_split=2, n_estimators=200; total time=   0.1s\n",
            "[CV] END max_depth=15, max_features=sqrt, min_samples_leaf=2, min_samples_split=10, n_estimators=100; total time=   0.0s\n",
            "[CV] END max_depth=15, max_features=sqrt, min_samples_leaf=2, min_samples_split=10, n_estimators=100; total time=   0.0s\n",
            "[CV] END max_depth=15, max_features=sqrt, min_samples_leaf=2, min_samples_split=10, n_estimators=100; total time=   0.0s\n",
            "[CV] END max_depth=7, max_features=log2, min_samples_leaf=1, min_samples_split=5, n_estimators=300; total time=   0.2s\n",
            "[CV] END max_depth=7, max_features=log2, min_samples_leaf=1, min_samples_split=5, n_estimators=300; total time=   0.2s\n",
            "[CV] END max_depth=7, max_features=log2, min_samples_leaf=1, min_samples_split=5, n_estimators=300; total time=   0.2s\n",
            "[CV] END max_depth=15, max_features=log2, min_samples_leaf=4, min_samples_split=2, n_estimators=500; total time=   0.3s\n",
            "[CV] END max_depth=15, max_features=log2, min_samples_leaf=4, min_samples_split=2, n_estimators=500; total time=   0.3s\n",
            "[CV] END max_depth=15, max_features=log2, min_samples_leaf=4, min_samples_split=2, n_estimators=500; total time=   0.3s\n",
            "[CV] END max_depth=20, max_features=None, min_samples_leaf=1, min_samples_split=10, n_estimators=200; total time=   0.1s\n",
            "[CV] END max_depth=20, max_features=None, min_samples_leaf=1, min_samples_split=10, n_estimators=200; total time=   0.1s\n",
            "[CV] END max_depth=20, max_features=None, min_samples_leaf=1, min_samples_split=10, n_estimators=200; total time=   0.1s\n",
            "[CV] END max_depth=7, max_features=log2, min_samples_leaf=2, min_samples_split=2, n_estimators=100; total time=   0.0s\n",
            "[CV] END max_depth=7, max_features=log2, min_samples_leaf=2, min_samples_split=2, n_estimators=100; total time=   0.0s\n",
            "[CV] END max_depth=7, max_features=log2, min_samples_leaf=2, min_samples_split=2, n_estimators=100; total time=   0.0s\n",
            "[CV] END max_depth=20, max_features=sqrt, min_samples_leaf=1, min_samples_split=5, n_estimators=300; total time=   0.2s\n",
            "[CV] END max_depth=20, max_features=sqrt, min_samples_leaf=1, min_samples_split=5, n_estimators=300; total time=   0.2s\n",
            "[CV] END max_depth=20, max_features=sqrt, min_samples_leaf=1, min_samples_split=5, n_estimators=300; total time=   0.2s\n",
            "[CV] END max_depth=20, max_features=log2, min_samples_leaf=1, min_samples_split=10, n_estimators=200; total time=   0.1s\n",
            "[CV] END max_depth=20, max_features=log2, min_samples_leaf=1, min_samples_split=10, n_estimators=200; total time=   0.1s\n",
            "[CV] END max_depth=20, max_features=log2, min_samples_leaf=1, min_samples_split=10, n_estimators=200; total time=   0.1s\n",
            "[CV] END max_depth=5, max_features=sqrt, min_samples_leaf=1, min_samples_split=2, n_estimators=300; total time=   0.1s\n",
            "[CV] END max_depth=5, max_features=sqrt, min_samples_leaf=1, min_samples_split=2, n_estimators=300; total time=   0.1s\n",
            "[CV] END max_depth=5, max_features=sqrt, min_samples_leaf=1, min_samples_split=2, n_estimators=300; total time=   0.1s\n"
          ]
        },
        {
          "data": {
            "text/html": [
              "<style>#sk-container-id-1 {color: black;}#sk-container-id-1 pre{padding: 0;}#sk-container-id-1 div.sk-toggleable {background-color: white;}#sk-container-id-1 label.sk-toggleable__label {cursor: pointer;display: block;width: 100%;margin-bottom: 0;padding: 0.3em;box-sizing: border-box;text-align: center;}#sk-container-id-1 label.sk-toggleable__label-arrow:before {content: \"▸\";float: left;margin-right: 0.25em;color: #696969;}#sk-container-id-1 label.sk-toggleable__label-arrow:hover:before {color: black;}#sk-container-id-1 div.sk-estimator:hover label.sk-toggleable__label-arrow:before {color: black;}#sk-container-id-1 div.sk-toggleable__content {max-height: 0;max-width: 0;overflow: hidden;text-align: left;background-color: #f0f8ff;}#sk-container-id-1 div.sk-toggleable__content pre {margin: 0.2em;color: black;border-radius: 0.25em;background-color: #f0f8ff;}#sk-container-id-1 input.sk-toggleable__control:checked~div.sk-toggleable__content {max-height: 200px;max-width: 100%;overflow: auto;}#sk-container-id-1 input.sk-toggleable__control:checked~label.sk-toggleable__label-arrow:before {content: \"▾\";}#sk-container-id-1 div.sk-estimator input.sk-toggleable__control:checked~label.sk-toggleable__label {background-color: #d4ebff;}#sk-container-id-1 div.sk-label input.sk-toggleable__control:checked~label.sk-toggleable__label {background-color: #d4ebff;}#sk-container-id-1 input.sk-hidden--visually {border: 0;clip: rect(1px 1px 1px 1px);clip: rect(1px, 1px, 1px, 1px);height: 1px;margin: -1px;overflow: hidden;padding: 0;position: absolute;width: 1px;}#sk-container-id-1 div.sk-estimator {font-family: monospace;background-color: #f0f8ff;border: 1px dotted black;border-radius: 0.25em;box-sizing: border-box;margin-bottom: 0.5em;}#sk-container-id-1 div.sk-estimator:hover {background-color: #d4ebff;}#sk-container-id-1 div.sk-parallel-item::after {content: \"\";width: 100%;border-bottom: 1px solid gray;flex-grow: 1;}#sk-container-id-1 div.sk-label:hover label.sk-toggleable__label {background-color: #d4ebff;}#sk-container-id-1 div.sk-serial::before {content: \"\";position: absolute;border-left: 1px solid gray;box-sizing: border-box;top: 0;bottom: 0;left: 50%;z-index: 0;}#sk-container-id-1 div.sk-serial {display: flex;flex-direction: column;align-items: center;background-color: white;padding-right: 0.2em;padding-left: 0.2em;position: relative;}#sk-container-id-1 div.sk-item {position: relative;z-index: 1;}#sk-container-id-1 div.sk-parallel {display: flex;align-items: stretch;justify-content: center;background-color: white;position: relative;}#sk-container-id-1 div.sk-item::before, #sk-container-id-1 div.sk-parallel-item::before {content: \"\";position: absolute;border-left: 1px solid gray;box-sizing: border-box;top: 0;bottom: 0;left: 50%;z-index: -1;}#sk-container-id-1 div.sk-parallel-item {display: flex;flex-direction: column;z-index: 1;position: relative;background-color: white;}#sk-container-id-1 div.sk-parallel-item:first-child::after {align-self: flex-end;width: 50%;}#sk-container-id-1 div.sk-parallel-item:last-child::after {align-self: flex-start;width: 50%;}#sk-container-id-1 div.sk-parallel-item:only-child::after {width: 0;}#sk-container-id-1 div.sk-dashed-wrapped {border: 1px dashed gray;margin: 0 0.4em 0.5em 0.4em;box-sizing: border-box;padding-bottom: 0.4em;background-color: white;}#sk-container-id-1 div.sk-label label {font-family: monospace;font-weight: bold;display: inline-block;line-height: 1.2em;}#sk-container-id-1 div.sk-label-container {text-align: center;}#sk-container-id-1 div.sk-container {/* jupyter's `normalize.less` sets `[hidden] { display: none; }` but bootstrap.min.css set `[hidden] { display: none !important; }` so we also need the `!important` here to be able to override the default hidden behavior on the sphinx rendered scikit-learn.org. See: https://github.com/scikit-learn/scikit-learn/issues/21755 */display: inline-block !important;position: relative;}#sk-container-id-1 div.sk-text-repr-fallback {display: none;}</style><div id=\"sk-container-id-1\" class=\"sk-top-container\"><div class=\"sk-text-repr-fallback\"><pre>RandomizedSearchCV(cv=3, estimator=RandomForestClassifier(), n_iter=100,\n",
              "                   param_distributions={&#x27;max_depth&#x27;: [5, 7, 15, 20],\n",
              "                                        &#x27;max_features&#x27;: [&#x27;sqrt&#x27;, &#x27;log2&#x27;, None],\n",
              "                                        &#x27;min_samples_leaf&#x27;: [1, 2, 4],\n",
              "                                        &#x27;min_samples_split&#x27;: [2, 5, 10],\n",
              "                                        &#x27;n_estimators&#x27;: [100, 200, 300, 500]},\n",
              "                   verbose=2)</pre><b>In a Jupyter environment, please rerun this cell to show the HTML representation or trust the notebook. <br />On GitHub, the HTML representation is unable to render, please try loading this page with nbviewer.org.</b></div><div class=\"sk-container\" hidden><div class=\"sk-item sk-dashed-wrapped\"><div class=\"sk-label-container\"><div class=\"sk-label sk-toggleable\"><input class=\"sk-toggleable__control sk-hidden--visually\" id=\"sk-estimator-id-1\" type=\"checkbox\" ><label for=\"sk-estimator-id-1\" class=\"sk-toggleable__label sk-toggleable__label-arrow\">RandomizedSearchCV</label><div class=\"sk-toggleable__content\"><pre>RandomizedSearchCV(cv=3, estimator=RandomForestClassifier(), n_iter=100,\n",
              "                   param_distributions={&#x27;max_depth&#x27;: [5, 7, 15, 20],\n",
              "                                        &#x27;max_features&#x27;: [&#x27;sqrt&#x27;, &#x27;log2&#x27;, None],\n",
              "                                        &#x27;min_samples_leaf&#x27;: [1, 2, 4],\n",
              "                                        &#x27;min_samples_split&#x27;: [2, 5, 10],\n",
              "                                        &#x27;n_estimators&#x27;: [100, 200, 300, 500]},\n",
              "                   verbose=2)</pre></div></div></div><div class=\"sk-parallel\"><div class=\"sk-parallel-item\"><div class=\"sk-item\"><div class=\"sk-label-container\"><div class=\"sk-label sk-toggleable\"><input class=\"sk-toggleable__control sk-hidden--visually\" id=\"sk-estimator-id-2\" type=\"checkbox\" ><label for=\"sk-estimator-id-2\" class=\"sk-toggleable__label sk-toggleable__label-arrow\">estimator: RandomForestClassifier</label><div class=\"sk-toggleable__content\"><pre>RandomForestClassifier()</pre></div></div></div><div class=\"sk-serial\"><div class=\"sk-item\"><div class=\"sk-estimator sk-toggleable\"><input class=\"sk-toggleable__control sk-hidden--visually\" id=\"sk-estimator-id-3\" type=\"checkbox\" ><label for=\"sk-estimator-id-3\" class=\"sk-toggleable__label sk-toggleable__label-arrow\">RandomForestClassifier</label><div class=\"sk-toggleable__content\"><pre>RandomForestClassifier()</pre></div></div></div></div></div></div></div></div></div></div>"
            ],
            "text/plain": [
              "RandomizedSearchCV(cv=3, estimator=RandomForestClassifier(), n_iter=100,\n",
              "                   param_distributions={'max_depth': [5, 7, 15, 20],\n",
              "                                        'max_features': ['sqrt', 'log2', None],\n",
              "                                        'min_samples_leaf': [1, 2, 4],\n",
              "                                        'min_samples_split': [2, 5, 10],\n",
              "                                        'n_estimators': [100, 200, 300, 500]},\n",
              "                   verbose=2)"
            ]
          },
          "execution_count": 42,
          "metadata": {},
          "output_type": "execute_result"
        }
      ],
      "source": [
        "random.fit(X_train,y_train)"
      ]
    },
    {
      "cell_type": "code",
      "execution_count": 43,
      "metadata": {
        "colab": {
          "base_uri": "https://localhost:8080/"
        },
        "id": "nE4wmyHPEOys",
        "outputId": "db70f72f-7a74-45ad-c46f-bc0adf1ed249"
      },
      "outputs": [
        {
          "name": "stdout",
          "output_type": "stream",
          "text": [
            "0.8486701611337604\n",
            "{'n_estimators': 500, 'min_samples_split': 5, 'min_samples_leaf': 4, 'max_features': 'sqrt', 'max_depth': 7}\n"
          ]
        }
      ],
      "source": [
        "print(random.best_score_)\n",
        "print(random.best_params_)"
      ]
    },
    {
      "cell_type": "code",
      "execution_count": 44,
      "metadata": {
        "colab": {
          "base_uri": "https://localhost:8080/"
        },
        "id": "hNGtQzXKEgfv",
        "outputId": "be997ea3-a765-401c-f78b-c2d0990983dc"
      },
      "outputs": [
        {
          "name": "stdout",
          "output_type": "stream",
          "text": [
            "RandomForest\n",
            "Model performance for Training set\n",
            "-----------------------------------\n",
            "Accuracy Score: 0.8519736842105263\n",
            "Confusion Matrix: \n",
            "[[ 48  41]\n",
            " [  4 211]]\n",
            "Classification Report: \n",
            "              precision    recall  f1-score   support\n",
            "\n",
            "           0       0.92      0.54      0.68        89\n",
            "           1       0.84      0.98      0.90       215\n",
            "\n",
            "    accuracy                           0.85       304\n",
            "   macro avg       0.88      0.76      0.79       304\n",
            "weighted avg       0.86      0.85      0.84       304\n",
            "\n",
            "\n",
            "Model performance for Test set\n",
            "-----------------------------------\n",
            "Accuracy Score: 0.8181818181818182\n",
            "Confusion Matrix: \n",
            "[[ 7 14]\n",
            " [ 0 56]]\n",
            "Classification Report: \n",
            "              precision    recall  f1-score   support\n",
            "\n",
            "           0       1.00      0.33      0.50        21\n",
            "           1       0.80      1.00      0.89        56\n",
            "\n",
            "    accuracy                           0.82        77\n",
            "   macro avg       0.90      0.67      0.69        77\n",
            "weighted avg       0.85      0.82      0.78        77\n",
            "\n",
            "**************************************************\n"
          ]
        }
      ],
      "source": [
        "models = {\n",
        "    \"RandomForest\":RandomForestClassifier(n_estimators=500,min_samples_split=5,min_samples_leaf=4, max_features='sqrt', max_depth=20),\n",
        "}\n",
        "\n",
        "for i in range(len(list(models))):\n",
        "  model = list(models.values())[i]\n",
        "  model.fit(X_train, y_train) # Train model\n",
        "\n",
        "  # Make predictions\n",
        "  y_train_pred = model.predict(X_train)\n",
        "  y_test_pred = model.predict(X_test)\n",
        "\n",
        "  # Training set performance\n",
        "  model_train_accuracy = accuracy_score(y_train, y_train_pred)\n",
        "  model_train_confusion_matrix = confusion_matrix(y_train, y_train_pred)\n",
        "  model_train_classification_report = classification_report(y_train, y_train_pred)\n",
        "\n",
        "  # Test set performance\n",
        "  model_test_accuracy = accuracy_score(y_test, y_test_pred)\n",
        "  model_test_confusion_matrix = confusion_matrix(y_test, y_test_pred)\n",
        "  model_test_classification_report = classification_report(y_test, y_test_pred)\n",
        "\n",
        "  print(list(models.keys())[i])\n",
        "\n",
        "  print(\"Model performance for Training set\")\n",
        "  print(\"-\"*35)\n",
        "  print(f\"Accuracy Score: {model_train_accuracy}\")\n",
        "\n",
        "  print(f\"Confusion Matrix: \\n{model_train_confusion_matrix}\")\n",
        "\n",
        "  print(f\"Classification Report: \\n{model_train_classification_report}\")\n",
        "\n",
        "  print()\n",
        "\n",
        "  print(\"Model performance for Test set\")\n",
        "  print(\"-\"*35)\n",
        "  print(f\"Accuracy Score: {model_test_accuracy}\")\n",
        "\n",
        "  print(f\"Confusion Matrix: \\n{model_test_confusion_matrix}\")\n",
        "\n",
        "  print(f\"Classification Report: \\n{model_test_classification_report}\")\n",
        "\n",
        "  print(\"*\" * 50)"
      ]
    },
    {
      "cell_type": "code",
      "execution_count": 45,
      "metadata": {
        "colab": {
          "base_uri": "https://localhost:8080/"
        },
        "id": "Obu_LGKqEw-3",
        "outputId": "f7768262-784f-4174-d628-4ae96e9465ee"
      },
      "outputs": [
        {
          "name": "stdout",
          "output_type": "stream",
          "text": [
            "Random Forest Classifier CV Mean Accuarcy Score is 70.0\n"
          ]
        }
      ],
      "source": [
        "from sklearn.model_selection import cross_val_score,KFold\n",
        "\n",
        "kfold = KFold(n_splits=5,shuffle=True,random_state=42)\n",
        "\n",
        "cv = cross_val_score(RandomForestClassifier(n_estimators=500,min_samples_split=5,min_samples_leaf=4, max_features='sqrt', max_depth=20),X_test,y_test,cv=kfold,scoring=\"accuracy\",n_jobs=-1)\n",
        "\n",
        "rf_cv = cv.mean()*100\n",
        "print('Random Forest Classifier CV Mean Accuarcy Score is {}'.format(rf_cv))\n"
      ]
    },
    {
      "cell_type": "code",
      "execution_count": 46,
      "metadata": {
        "id": "XilPoq2UFLif"
      },
      "outputs": [],
      "source": [
        "best_model = RandomForestClassifier(n_estimators=500,min_samples_split=5,min_samples_leaf=4, max_features='sqrt', max_depth=20)\n",
        "best_model.fit(X_train,y_train)\n",
        "y_pred = best_model.predict(X_test)\n",
        "score = accuracy_score(y_test,y_pred)\n",
        "cr = classification_report(y_test,y_pred)"
      ]
    },
    {
      "cell_type": "code",
      "execution_count": 47,
      "metadata": {
        "colab": {
          "base_uri": "https://localhost:8080/"
        },
        "id": "TuaNOH9UFN2O",
        "outputId": "0fd38185-71b6-42af-91f4-daa5fa0c8a9b"
      },
      "outputs": [
        {
          "name": "stdout",
          "output_type": "stream",
          "text": [
            "              precision    recall  f1-score   support\n",
            "\n",
            "           0       1.00      0.33      0.50        21\n",
            "           1       0.80      1.00      0.89        56\n",
            "\n",
            "    accuracy                           0.82        77\n",
            "   macro avg       0.90      0.67      0.69        77\n",
            "weighted avg       0.85      0.82      0.78        77\n",
            "\n"
          ]
        }
      ],
      "source": [
        "print(cr)"
      ]
    },
    {
      "cell_type": "markdown",
      "metadata": {
        "id": "LWprumAlGahb"
      },
      "source": [
        "# Save the Model using Pickle"
      ]
    },
    {
      "cell_type": "code",
      "execution_count": 48,
      "metadata": {
        "id": "Jix3quZvGdRP"
      },
      "outputs": [],
      "source": [
        "import pickle"
      ]
    },
    {
      "cell_type": "code",
      "execution_count": 49,
      "metadata": {
        "id": "jI6drGbtGeTm"
      },
      "outputs": [],
      "source": [
        "pickle.dump(best_model,open(\"loan_model.pkl\",\"wb\"))"
      ]
    },
    {
      "cell_type": "code",
      "execution_count": null,
      "metadata": {
        "id": "Z8xoJ2YZGgxC"
      },
      "outputs": [],
      "source": []
    }
  ],
  "metadata": {
    "colab": {
      "provenance": []
    },
    "kernelspec": {
      "display_name": "Python 3",
      "name": "python3"
    },
    "language_info": {
      "codemirror_mode": {
        "name": "ipython",
        "version": 3
      },
      "file_extension": ".py",
      "mimetype": "text/x-python",
      "name": "python",
      "nbconvert_exporter": "python",
      "pygments_lexer": "ipython3",
      "version": "3.8.19"
    }
  },
  "nbformat": 4,
  "nbformat_minor": 0
}
